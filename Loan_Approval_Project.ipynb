{
  "nbformat": 4,
  "nbformat_minor": 0,
  "metadata": {
    "colab": {
      "name": "Loan_Approval_Project.ipynb",
      "provenance": [],
      "collapsed_sections": []
    },
    "kernelspec": {
      "name": "python3",
      "display_name": "Python 3"
    },
    "language_info": {
      "name": "python"
    }
  },
  "cells": [
    {
      "cell_type": "markdown",
      "metadata": {
        "id": "4UxxeKPRInax"
      },
      "source": [
        "## A CASE STUDY OF FACTORS AFFECTING LOAN APPROVAL"
      ]
    },
    {
      "cell_type": "markdown",
      "metadata": {
        "id": "ROdDdygdOWJG"
      },
      "source": [
        "## 1. Defining the question"
      ]
    },
    {
      "cell_type": "markdown",
      "metadata": {
        "id": "112GSu7CPl5-"
      },
      "source": [
        "### a) Specifying the analysis question\n",
        "\n",
        "Is there a relationship between gender, credit history and the area one lives and loan status?"
      ]
    },
    {
      "cell_type": "markdown",
      "metadata": {
        "id": "TBT5LvwBPmkP"
      },
      "source": [
        "### b) Defining the metric for success\n",
        "\n",
        "Be able to obtain and run statistically correct hypothesis tests, and come to a meaningful conclusion"
      ]
    },
    {
      "cell_type": "markdown",
      "metadata": {
        "id": "xdPS32qUPnPK"
      },
      "source": [
        "### c) Understanding the context\n",
        "\n",
        "In finance, a loan is the lending of money by one or more individuals, organizations, or other entities to other individuals and organizations.\n",
        "\n",
        "Borrowing a Loan will build your confidence in securing a loan. If you repay well your loan, you will have a good credit history and stand a chance of more loan. Borrowing loan is important. It helps you when you don't have cash on hand and will are of great help whenever you are in a fix."
      ]
    },
    {
      "cell_type": "markdown",
      "metadata": {
        "id": "h0uUC0OpPnxc"
      },
      "source": [
        "### d) Recording the experimental design\n",
        "\n",
        "We will be conducting Exploratory data analysis which includes Univariate analysis, Bivariate and multivariate analysis.\n",
        "\n",
        "In order to answer our research question we will be carrying out hypothesis testing using Chi-square test to get the relationships and differences between our independent and target variables hence coming up with significant conclusions.\n",
        "\n"
      ]
    },
    {
      "cell_type": "markdown",
      "metadata": {
        "id": "LznBGpVFPoOT"
      },
      "source": [
        "### e) Data Relevance\n",
        "\n",
        "The dataset contains demographic information on factors that determine whether one gets a loan or not. \n",
        "This data was extracted from Kaggle, which is a reputable organization.\n",
        "The information contained in our dataset was relevant for our analysis."
      ]
    },
    {
      "cell_type": "markdown",
      "metadata": {
        "id": "V0rTKmBbPor5"
      },
      "source": [
        "## 2. Importing relevant libraries"
      ]
    },
    {
      "cell_type": "code",
      "metadata": {
        "id": "lJHfv_3FbnN3"
      },
      "source": [
        "import pandas as pd\n",
        "import numpy as np\n",
        "import matplotlib.pyplot as plt\n",
        "import seaborn as sns\n",
        "from scipy.stats import f_oneway\n",
        "from scipy.stats import ttest_ind\n",
        "import scipy.stats as stats\n",
        "from sklearn.decomposition import PCA"
      ],
      "execution_count": null,
      "outputs": []
    },
    {
      "cell_type": "markdown",
      "metadata": {
        "id": "Zp8drdSRQjg0"
      },
      "source": [
        "## 3. Loading and checking the data"
      ]
    },
    {
      "cell_type": "code",
      "metadata": {
        "id": "3xFo-4FwcSpQ"
      },
      "source": [
        "# Loading our dataset\n",
        "\n",
        "loans_df =  pd.read_csv('loans.csv')"
      ],
      "execution_count": null,
      "outputs": []
    },
    {
      "cell_type": "code",
      "metadata": {
        "colab": {
          "base_uri": "https://localhost:8080/",
          "height": 397
        },
        "id": "tx1TuYKLce6R",
        "outputId": "2021bc2a-ffc9-43ce-cff9-71762a0351ba"
      },
      "source": [
        "# Getting a preview of the first 10 rows\n",
        "\n",
        "loans_df.head(10)"
      ],
      "execution_count": null,
      "outputs": [
        {
          "output_type": "execute_result",
          "data": {
            "text/html": [
              "<div>\n",
              "<style scoped>\n",
              "    .dataframe tbody tr th:only-of-type {\n",
              "        vertical-align: middle;\n",
              "    }\n",
              "\n",
              "    .dataframe tbody tr th {\n",
              "        vertical-align: top;\n",
              "    }\n",
              "\n",
              "    .dataframe thead th {\n",
              "        text-align: right;\n",
              "    }\n",
              "</style>\n",
              "<table border=\"1\" class=\"dataframe\">\n",
              "  <thead>\n",
              "    <tr style=\"text-align: right;\">\n",
              "      <th></th>\n",
              "      <th>Loan_ID</th>\n",
              "      <th>Gender</th>\n",
              "      <th>Married</th>\n",
              "      <th>Dependents</th>\n",
              "      <th>Education</th>\n",
              "      <th>Self_Employed</th>\n",
              "      <th>ApplicantIncome</th>\n",
              "      <th>CoapplicantIncome</th>\n",
              "      <th>LoanAmount</th>\n",
              "      <th>Loan_Amount_Term</th>\n",
              "      <th>Credit_History</th>\n",
              "      <th>Property_Area</th>\n",
              "      <th>Loan_Status</th>\n",
              "    </tr>\n",
              "  </thead>\n",
              "  <tbody>\n",
              "    <tr>\n",
              "      <th>0</th>\n",
              "      <td>LP001002</td>\n",
              "      <td>Male</td>\n",
              "      <td>No</td>\n",
              "      <td>0</td>\n",
              "      <td>Graduate</td>\n",
              "      <td>No</td>\n",
              "      <td>5849</td>\n",
              "      <td>0.0</td>\n",
              "      <td>NaN</td>\n",
              "      <td>360.0</td>\n",
              "      <td>1.0</td>\n",
              "      <td>Urban</td>\n",
              "      <td>Y</td>\n",
              "    </tr>\n",
              "    <tr>\n",
              "      <th>1</th>\n",
              "      <td>LP001003</td>\n",
              "      <td>Male</td>\n",
              "      <td>Yes</td>\n",
              "      <td>1</td>\n",
              "      <td>Graduate</td>\n",
              "      <td>No</td>\n",
              "      <td>4583</td>\n",
              "      <td>1508.0</td>\n",
              "      <td>128.0</td>\n",
              "      <td>360.0</td>\n",
              "      <td>1.0</td>\n",
              "      <td>Rural</td>\n",
              "      <td>N</td>\n",
              "    </tr>\n",
              "    <tr>\n",
              "      <th>2</th>\n",
              "      <td>LP001005</td>\n",
              "      <td>Male</td>\n",
              "      <td>Yes</td>\n",
              "      <td>0</td>\n",
              "      <td>Graduate</td>\n",
              "      <td>Yes</td>\n",
              "      <td>3000</td>\n",
              "      <td>0.0</td>\n",
              "      <td>66.0</td>\n",
              "      <td>360.0</td>\n",
              "      <td>1.0</td>\n",
              "      <td>Urban</td>\n",
              "      <td>Y</td>\n",
              "    </tr>\n",
              "    <tr>\n",
              "      <th>3</th>\n",
              "      <td>LP001006</td>\n",
              "      <td>Male</td>\n",
              "      <td>Yes</td>\n",
              "      <td>0</td>\n",
              "      <td>Not Graduate</td>\n",
              "      <td>No</td>\n",
              "      <td>2583</td>\n",
              "      <td>2358.0</td>\n",
              "      <td>120.0</td>\n",
              "      <td>360.0</td>\n",
              "      <td>1.0</td>\n",
              "      <td>Urban</td>\n",
              "      <td>Y</td>\n",
              "    </tr>\n",
              "    <tr>\n",
              "      <th>4</th>\n",
              "      <td>LP001008</td>\n",
              "      <td>Male</td>\n",
              "      <td>No</td>\n",
              "      <td>0</td>\n",
              "      <td>Graduate</td>\n",
              "      <td>No</td>\n",
              "      <td>6000</td>\n",
              "      <td>0.0</td>\n",
              "      <td>141.0</td>\n",
              "      <td>360.0</td>\n",
              "      <td>1.0</td>\n",
              "      <td>Urban</td>\n",
              "      <td>Y</td>\n",
              "    </tr>\n",
              "    <tr>\n",
              "      <th>5</th>\n",
              "      <td>LP001011</td>\n",
              "      <td>Male</td>\n",
              "      <td>Yes</td>\n",
              "      <td>2</td>\n",
              "      <td>Graduate</td>\n",
              "      <td>Yes</td>\n",
              "      <td>5417</td>\n",
              "      <td>4196.0</td>\n",
              "      <td>267.0</td>\n",
              "      <td>360.0</td>\n",
              "      <td>1.0</td>\n",
              "      <td>Urban</td>\n",
              "      <td>Y</td>\n",
              "    </tr>\n",
              "    <tr>\n",
              "      <th>6</th>\n",
              "      <td>LP001013</td>\n",
              "      <td>Male</td>\n",
              "      <td>Yes</td>\n",
              "      <td>0</td>\n",
              "      <td>Not Graduate</td>\n",
              "      <td>No</td>\n",
              "      <td>2333</td>\n",
              "      <td>1516.0</td>\n",
              "      <td>95.0</td>\n",
              "      <td>360.0</td>\n",
              "      <td>1.0</td>\n",
              "      <td>Urban</td>\n",
              "      <td>Y</td>\n",
              "    </tr>\n",
              "    <tr>\n",
              "      <th>7</th>\n",
              "      <td>LP001014</td>\n",
              "      <td>Male</td>\n",
              "      <td>Yes</td>\n",
              "      <td>3+</td>\n",
              "      <td>Graduate</td>\n",
              "      <td>No</td>\n",
              "      <td>3036</td>\n",
              "      <td>2504.0</td>\n",
              "      <td>158.0</td>\n",
              "      <td>360.0</td>\n",
              "      <td>0.0</td>\n",
              "      <td>Semiurban</td>\n",
              "      <td>N</td>\n",
              "    </tr>\n",
              "    <tr>\n",
              "      <th>8</th>\n",
              "      <td>LP001018</td>\n",
              "      <td>Male</td>\n",
              "      <td>Yes</td>\n",
              "      <td>2</td>\n",
              "      <td>Graduate</td>\n",
              "      <td>No</td>\n",
              "      <td>4006</td>\n",
              "      <td>1526.0</td>\n",
              "      <td>168.0</td>\n",
              "      <td>360.0</td>\n",
              "      <td>1.0</td>\n",
              "      <td>Urban</td>\n",
              "      <td>Y</td>\n",
              "    </tr>\n",
              "    <tr>\n",
              "      <th>9</th>\n",
              "      <td>LP001020</td>\n",
              "      <td>Male</td>\n",
              "      <td>Yes</td>\n",
              "      <td>1</td>\n",
              "      <td>Graduate</td>\n",
              "      <td>No</td>\n",
              "      <td>12841</td>\n",
              "      <td>10968.0</td>\n",
              "      <td>349.0</td>\n",
              "      <td>360.0</td>\n",
              "      <td>1.0</td>\n",
              "      <td>Semiurban</td>\n",
              "      <td>N</td>\n",
              "    </tr>\n",
              "  </tbody>\n",
              "</table>\n",
              "</div>"
            ],
            "text/plain": [
              "    Loan_ID Gender Married  ... Credit_History Property_Area Loan_Status\n",
              "0  LP001002   Male      No  ...            1.0         Urban           Y\n",
              "1  LP001003   Male     Yes  ...            1.0         Rural           N\n",
              "2  LP001005   Male     Yes  ...            1.0         Urban           Y\n",
              "3  LP001006   Male     Yes  ...            1.0         Urban           Y\n",
              "4  LP001008   Male      No  ...            1.0         Urban           Y\n",
              "5  LP001011   Male     Yes  ...            1.0         Urban           Y\n",
              "6  LP001013   Male     Yes  ...            1.0         Urban           Y\n",
              "7  LP001014   Male     Yes  ...            0.0     Semiurban           N\n",
              "8  LP001018   Male     Yes  ...            1.0         Urban           Y\n",
              "9  LP001020   Male     Yes  ...            1.0     Semiurban           N\n",
              "\n",
              "[10 rows x 13 columns]"
            ]
          },
          "metadata": {
            "tags": []
          },
          "execution_count": 3
        }
      ]
    },
    {
      "cell_type": "code",
      "metadata": {
        "colab": {
          "base_uri": "https://localhost:8080/"
        },
        "id": "SApzDmXYemul",
        "outputId": "77661725-8ef7-4857-eb44-e0661fd06e31"
      },
      "source": [
        "# Determining the number of rows and columns in the dataset\n",
        "\n",
        "loans_df.shape"
      ],
      "execution_count": null,
      "outputs": [
        {
          "output_type": "execute_result",
          "data": {
            "text/plain": [
              "(614, 13)"
            ]
          },
          "metadata": {
            "tags": []
          },
          "execution_count": 4
        }
      ]
    },
    {
      "cell_type": "code",
      "metadata": {
        "colab": {
          "base_uri": "https://localhost:8080/"
        },
        "id": "BndCOUEFfM9a",
        "outputId": "17756b66-1c2c-4dce-e955-61055fee6362"
      },
      "source": [
        "# Determining the names of the columns present in the dataset\n",
        "\n",
        "loans_df.columns"
      ],
      "execution_count": null,
      "outputs": [
        {
          "output_type": "execute_result",
          "data": {
            "text/plain": [
              "Index(['Loan_ID', 'Gender', 'Married', 'Dependents', 'Education',\n",
              "       'Self_Employed', 'ApplicantIncome', 'CoapplicantIncome', 'LoanAmount',\n",
              "       'Loan_Amount_Term', 'Credit_History', 'Property_Area', 'Loan_Status'],\n",
              "      dtype='object')"
            ]
          },
          "metadata": {
            "tags": []
          },
          "execution_count": 5
        }
      ]
    },
    {
      "cell_type": "code",
      "metadata": {
        "colab": {
          "base_uri": "https://localhost:8080/",
          "height": 284
        },
        "id": "7jS7nEzAfNAv",
        "outputId": "c5fb56f4-b6d8-4231-ec24-0bc5c01441e2"
      },
      "source": [
        "# Description of the quantitative columns\n",
        "\n",
        "loans_df.describe()"
      ],
      "execution_count": null,
      "outputs": [
        {
          "output_type": "execute_result",
          "data": {
            "text/html": [
              "<div>\n",
              "<style scoped>\n",
              "    .dataframe tbody tr th:only-of-type {\n",
              "        vertical-align: middle;\n",
              "    }\n",
              "\n",
              "    .dataframe tbody tr th {\n",
              "        vertical-align: top;\n",
              "    }\n",
              "\n",
              "    .dataframe thead th {\n",
              "        text-align: right;\n",
              "    }\n",
              "</style>\n",
              "<table border=\"1\" class=\"dataframe\">\n",
              "  <thead>\n",
              "    <tr style=\"text-align: right;\">\n",
              "      <th></th>\n",
              "      <th>ApplicantIncome</th>\n",
              "      <th>CoapplicantIncome</th>\n",
              "      <th>LoanAmount</th>\n",
              "      <th>Loan_Amount_Term</th>\n",
              "      <th>Credit_History</th>\n",
              "    </tr>\n",
              "  </thead>\n",
              "  <tbody>\n",
              "    <tr>\n",
              "      <th>count</th>\n",
              "      <td>614.000000</td>\n",
              "      <td>614.000000</td>\n",
              "      <td>592.000000</td>\n",
              "      <td>600.00000</td>\n",
              "      <td>564.000000</td>\n",
              "    </tr>\n",
              "    <tr>\n",
              "      <th>mean</th>\n",
              "      <td>5403.459283</td>\n",
              "      <td>1621.245798</td>\n",
              "      <td>146.412162</td>\n",
              "      <td>342.00000</td>\n",
              "      <td>0.842199</td>\n",
              "    </tr>\n",
              "    <tr>\n",
              "      <th>std</th>\n",
              "      <td>6109.041673</td>\n",
              "      <td>2926.248369</td>\n",
              "      <td>85.587325</td>\n",
              "      <td>65.12041</td>\n",
              "      <td>0.364878</td>\n",
              "    </tr>\n",
              "    <tr>\n",
              "      <th>min</th>\n",
              "      <td>150.000000</td>\n",
              "      <td>0.000000</td>\n",
              "      <td>9.000000</td>\n",
              "      <td>12.00000</td>\n",
              "      <td>0.000000</td>\n",
              "    </tr>\n",
              "    <tr>\n",
              "      <th>25%</th>\n",
              "      <td>2877.500000</td>\n",
              "      <td>0.000000</td>\n",
              "      <td>100.000000</td>\n",
              "      <td>360.00000</td>\n",
              "      <td>1.000000</td>\n",
              "    </tr>\n",
              "    <tr>\n",
              "      <th>50%</th>\n",
              "      <td>3812.500000</td>\n",
              "      <td>1188.500000</td>\n",
              "      <td>128.000000</td>\n",
              "      <td>360.00000</td>\n",
              "      <td>1.000000</td>\n",
              "    </tr>\n",
              "    <tr>\n",
              "      <th>75%</th>\n",
              "      <td>5795.000000</td>\n",
              "      <td>2297.250000</td>\n",
              "      <td>168.000000</td>\n",
              "      <td>360.00000</td>\n",
              "      <td>1.000000</td>\n",
              "    </tr>\n",
              "    <tr>\n",
              "      <th>max</th>\n",
              "      <td>81000.000000</td>\n",
              "      <td>41667.000000</td>\n",
              "      <td>700.000000</td>\n",
              "      <td>480.00000</td>\n",
              "      <td>1.000000</td>\n",
              "    </tr>\n",
              "  </tbody>\n",
              "</table>\n",
              "</div>"
            ],
            "text/plain": [
              "       ApplicantIncome  CoapplicantIncome  ...  Loan_Amount_Term  Credit_History\n",
              "count       614.000000         614.000000  ...         600.00000      564.000000\n",
              "mean       5403.459283        1621.245798  ...         342.00000        0.842199\n",
              "std        6109.041673        2926.248369  ...          65.12041        0.364878\n",
              "min         150.000000           0.000000  ...          12.00000        0.000000\n",
              "25%        2877.500000           0.000000  ...         360.00000        1.000000\n",
              "50%        3812.500000        1188.500000  ...         360.00000        1.000000\n",
              "75%        5795.000000        2297.250000  ...         360.00000        1.000000\n",
              "max       81000.000000       41667.000000  ...         480.00000        1.000000\n",
              "\n",
              "[8 rows x 5 columns]"
            ]
          },
          "metadata": {
            "tags": []
          },
          "execution_count": 6
        }
      ]
    },
    {
      "cell_type": "code",
      "metadata": {
        "colab": {
          "base_uri": "https://localhost:8080/",
          "height": 166
        },
        "id": "DVZ90apZfUq_",
        "outputId": "b7f46c87-621a-41fd-ad9b-95e09b52eb71"
      },
      "source": [
        "# Description of the qualitative columns\n",
        "\n",
        "loans_df.describe(include = 'object')"
      ],
      "execution_count": null,
      "outputs": [
        {
          "output_type": "execute_result",
          "data": {
            "text/html": [
              "<div>\n",
              "<style scoped>\n",
              "    .dataframe tbody tr th:only-of-type {\n",
              "        vertical-align: middle;\n",
              "    }\n",
              "\n",
              "    .dataframe tbody tr th {\n",
              "        vertical-align: top;\n",
              "    }\n",
              "\n",
              "    .dataframe thead th {\n",
              "        text-align: right;\n",
              "    }\n",
              "</style>\n",
              "<table border=\"1\" class=\"dataframe\">\n",
              "  <thead>\n",
              "    <tr style=\"text-align: right;\">\n",
              "      <th></th>\n",
              "      <th>Loan_ID</th>\n",
              "      <th>Gender</th>\n",
              "      <th>Married</th>\n",
              "      <th>Dependents</th>\n",
              "      <th>Education</th>\n",
              "      <th>Self_Employed</th>\n",
              "      <th>Property_Area</th>\n",
              "      <th>Loan_Status</th>\n",
              "    </tr>\n",
              "  </thead>\n",
              "  <tbody>\n",
              "    <tr>\n",
              "      <th>count</th>\n",
              "      <td>614</td>\n",
              "      <td>601</td>\n",
              "      <td>611</td>\n",
              "      <td>599</td>\n",
              "      <td>614</td>\n",
              "      <td>582</td>\n",
              "      <td>614</td>\n",
              "      <td>614</td>\n",
              "    </tr>\n",
              "    <tr>\n",
              "      <th>unique</th>\n",
              "      <td>614</td>\n",
              "      <td>2</td>\n",
              "      <td>2</td>\n",
              "      <td>4</td>\n",
              "      <td>2</td>\n",
              "      <td>2</td>\n",
              "      <td>3</td>\n",
              "      <td>2</td>\n",
              "    </tr>\n",
              "    <tr>\n",
              "      <th>top</th>\n",
              "      <td>LP001813</td>\n",
              "      <td>Male</td>\n",
              "      <td>Yes</td>\n",
              "      <td>0</td>\n",
              "      <td>Graduate</td>\n",
              "      <td>No</td>\n",
              "      <td>Semiurban</td>\n",
              "      <td>Y</td>\n",
              "    </tr>\n",
              "    <tr>\n",
              "      <th>freq</th>\n",
              "      <td>1</td>\n",
              "      <td>489</td>\n",
              "      <td>398</td>\n",
              "      <td>345</td>\n",
              "      <td>480</td>\n",
              "      <td>500</td>\n",
              "      <td>233</td>\n",
              "      <td>422</td>\n",
              "    </tr>\n",
              "  </tbody>\n",
              "</table>\n",
              "</div>"
            ],
            "text/plain": [
              "         Loan_ID Gender Married  ... Self_Employed Property_Area Loan_Status\n",
              "count        614    601     611  ...           582           614         614\n",
              "unique       614      2       2  ...             2             3           2\n",
              "top     LP001813   Male     Yes  ...            No     Semiurban           Y\n",
              "freq           1    489     398  ...           500           233         422\n",
              "\n",
              "[4 rows x 8 columns]"
            ]
          },
          "metadata": {
            "tags": []
          },
          "execution_count": 7
        }
      ]
    },
    {
      "cell_type": "code",
      "metadata": {
        "colab": {
          "base_uri": "https://localhost:8080/"
        },
        "id": "g4WLnrwGfZFN",
        "outputId": "d19646f7-c325-4e17-d0e4-a182c9e95392"
      },
      "source": [
        "# Checking if each column is of the appropriate data type\n",
        "\n",
        "loans_df.info()"
      ],
      "execution_count": null,
      "outputs": [
        {
          "output_type": "stream",
          "text": [
            "<class 'pandas.core.frame.DataFrame'>\n",
            "RangeIndex: 614 entries, 0 to 613\n",
            "Data columns (total 13 columns):\n",
            " #   Column             Non-Null Count  Dtype  \n",
            "---  ------             --------------  -----  \n",
            " 0   Loan_ID            614 non-null    object \n",
            " 1   Gender             601 non-null    object \n",
            " 2   Married            611 non-null    object \n",
            " 3   Dependents         599 non-null    object \n",
            " 4   Education          614 non-null    object \n",
            " 5   Self_Employed      582 non-null    object \n",
            " 6   ApplicantIncome    614 non-null    int64  \n",
            " 7   CoapplicantIncome  614 non-null    float64\n",
            " 8   LoanAmount         592 non-null    float64\n",
            " 9   Loan_Amount_Term   600 non-null    float64\n",
            " 10  Credit_History     564 non-null    float64\n",
            " 11  Property_Area      614 non-null    object \n",
            " 12  Loan_Status        614 non-null    object \n",
            "dtypes: float64(4), int64(1), object(8)\n",
            "memory usage: 62.5+ KB\n"
          ],
          "name": "stdout"
        }
      ]
    },
    {
      "cell_type": "markdown",
      "metadata": {
        "id": "PSOXSQciSFn0"
      },
      "source": [
        "## 4. External data source validation"
      ]
    },
    {
      "cell_type": "markdown",
      "metadata": {
        "id": "_6hx-9sDM66o"
      },
      "source": [
        "> We validated our dataset using information from the following link:\n",
        "\n",
        "> http://calcnet.mth.cmich.edu/org/spss/prj_loan_data.htm"
      ]
    },
    {
      "cell_type": "markdown",
      "metadata": {
        "id": "iT1z5dFagd6g"
      },
      "source": [
        "## 5. Data cleaning\n"
      ]
    },
    {
      "cell_type": "markdown",
      "metadata": {
        "id": "V_D_2myjgs2O"
      },
      "source": [
        "Uniformity"
      ]
    },
    {
      "cell_type": "code",
      "metadata": {
        "id": "d10waXUBgSnH"
      },
      "source": [
        "# Changing all column names to lowercase, stripping white spaces\n",
        "# and removing all underscores\n",
        "\n",
        "loans_df.columns = loans_df.columns.str.lower().str.strip().str.replace(\"_\",\"\")"
      ],
      "execution_count": null,
      "outputs": []
    },
    {
      "cell_type": "code",
      "metadata": {
        "colab": {
          "base_uri": "https://localhost:8080/",
          "height": 232
        },
        "id": "Rp2QjaZCgStG",
        "outputId": "2a5df066-f5f7-4244-a394-c289edf9d55c"
      },
      "source": [
        "# Confirming the changes made\n",
        "\n",
        "loans_df.head(5)"
      ],
      "execution_count": null,
      "outputs": [
        {
          "output_type": "execute_result",
          "data": {
            "text/html": [
              "<div>\n",
              "<style scoped>\n",
              "    .dataframe tbody tr th:only-of-type {\n",
              "        vertical-align: middle;\n",
              "    }\n",
              "\n",
              "    .dataframe tbody tr th {\n",
              "        vertical-align: top;\n",
              "    }\n",
              "\n",
              "    .dataframe thead th {\n",
              "        text-align: right;\n",
              "    }\n",
              "</style>\n",
              "<table border=\"1\" class=\"dataframe\">\n",
              "  <thead>\n",
              "    <tr style=\"text-align: right;\">\n",
              "      <th></th>\n",
              "      <th>loanid</th>\n",
              "      <th>gender</th>\n",
              "      <th>married</th>\n",
              "      <th>dependents</th>\n",
              "      <th>education</th>\n",
              "      <th>selfemployed</th>\n",
              "      <th>applicantincome</th>\n",
              "      <th>coapplicantincome</th>\n",
              "      <th>loanamount</th>\n",
              "      <th>loanamountterm</th>\n",
              "      <th>credithistory</th>\n",
              "      <th>propertyarea</th>\n",
              "      <th>loanstatus</th>\n",
              "    </tr>\n",
              "  </thead>\n",
              "  <tbody>\n",
              "    <tr>\n",
              "      <th>0</th>\n",
              "      <td>LP001002</td>\n",
              "      <td>Male</td>\n",
              "      <td>No</td>\n",
              "      <td>0</td>\n",
              "      <td>Graduate</td>\n",
              "      <td>No</td>\n",
              "      <td>5849</td>\n",
              "      <td>0.0</td>\n",
              "      <td>NaN</td>\n",
              "      <td>360.0</td>\n",
              "      <td>1.0</td>\n",
              "      <td>Urban</td>\n",
              "      <td>Y</td>\n",
              "    </tr>\n",
              "    <tr>\n",
              "      <th>1</th>\n",
              "      <td>LP001003</td>\n",
              "      <td>Male</td>\n",
              "      <td>Yes</td>\n",
              "      <td>1</td>\n",
              "      <td>Graduate</td>\n",
              "      <td>No</td>\n",
              "      <td>4583</td>\n",
              "      <td>1508.0</td>\n",
              "      <td>128.0</td>\n",
              "      <td>360.0</td>\n",
              "      <td>1.0</td>\n",
              "      <td>Rural</td>\n",
              "      <td>N</td>\n",
              "    </tr>\n",
              "    <tr>\n",
              "      <th>2</th>\n",
              "      <td>LP001005</td>\n",
              "      <td>Male</td>\n",
              "      <td>Yes</td>\n",
              "      <td>0</td>\n",
              "      <td>Graduate</td>\n",
              "      <td>Yes</td>\n",
              "      <td>3000</td>\n",
              "      <td>0.0</td>\n",
              "      <td>66.0</td>\n",
              "      <td>360.0</td>\n",
              "      <td>1.0</td>\n",
              "      <td>Urban</td>\n",
              "      <td>Y</td>\n",
              "    </tr>\n",
              "    <tr>\n",
              "      <th>3</th>\n",
              "      <td>LP001006</td>\n",
              "      <td>Male</td>\n",
              "      <td>Yes</td>\n",
              "      <td>0</td>\n",
              "      <td>Not Graduate</td>\n",
              "      <td>No</td>\n",
              "      <td>2583</td>\n",
              "      <td>2358.0</td>\n",
              "      <td>120.0</td>\n",
              "      <td>360.0</td>\n",
              "      <td>1.0</td>\n",
              "      <td>Urban</td>\n",
              "      <td>Y</td>\n",
              "    </tr>\n",
              "    <tr>\n",
              "      <th>4</th>\n",
              "      <td>LP001008</td>\n",
              "      <td>Male</td>\n",
              "      <td>No</td>\n",
              "      <td>0</td>\n",
              "      <td>Graduate</td>\n",
              "      <td>No</td>\n",
              "      <td>6000</td>\n",
              "      <td>0.0</td>\n",
              "      <td>141.0</td>\n",
              "      <td>360.0</td>\n",
              "      <td>1.0</td>\n",
              "      <td>Urban</td>\n",
              "      <td>Y</td>\n",
              "    </tr>\n",
              "  </tbody>\n",
              "</table>\n",
              "</div>"
            ],
            "text/plain": [
              "     loanid gender married  ... credithistory propertyarea loanstatus\n",
              "0  LP001002   Male      No  ...           1.0        Urban          Y\n",
              "1  LP001003   Male     Yes  ...           1.0        Rural          N\n",
              "2  LP001005   Male     Yes  ...           1.0        Urban          Y\n",
              "3  LP001006   Male     Yes  ...           1.0        Urban          Y\n",
              "4  LP001008   Male      No  ...           1.0        Urban          Y\n",
              "\n",
              "[5 rows x 13 columns]"
            ]
          },
          "metadata": {
            "tags": []
          },
          "execution_count": 10
        }
      ]
    },
    {
      "cell_type": "markdown",
      "metadata": {
        "id": "ncaWNBskhp6y"
      },
      "source": [
        "Data Completeness"
      ]
    },
    {
      "cell_type": "code",
      "metadata": {
        "colab": {
          "base_uri": "https://localhost:8080/"
        },
        "id": "WJNqiDb0gSvi",
        "outputId": "eca90485-3593-4a4f-c5ec-2a36ceeb36fb"
      },
      "source": [
        "# Determining the number of null values in each column\n",
        "\n",
        "loans_df.isnull().sum()"
      ],
      "execution_count": null,
      "outputs": [
        {
          "output_type": "execute_result",
          "data": {
            "text/plain": [
              "loanid                0\n",
              "gender               13\n",
              "married               3\n",
              "dependents           15\n",
              "education             0\n",
              "selfemployed         32\n",
              "applicantincome       0\n",
              "coapplicantincome     0\n",
              "loanamount           22\n",
              "loanamountterm       14\n",
              "credithistory        50\n",
              "propertyarea          0\n",
              "loanstatus            0\n",
              "dtype: int64"
            ]
          },
          "metadata": {
            "tags": []
          },
          "execution_count": 11
        }
      ]
    },
    {
      "cell_type": "code",
      "metadata": {
        "id": "QuUIdONDjdPT"
      },
      "source": [
        "#Imputing Loan Amount with mean\n",
        "\n",
        "loans_df['loanamount'] = loans_df['loanamount'].fillna(loans_df['loanamount'].mean())"
      ],
      "execution_count": null,
      "outputs": []
    },
    {
      "cell_type": "code",
      "metadata": {
        "id": "Sx4YpxDVjwJE"
      },
      "source": [
        "#FowardFill For LoanTerm \n",
        "\n",
        "loans_df['loanamountterm'] = loans_df['loanamountterm'].fillna(method = \"ffill\")"
      ],
      "execution_count": null,
      "outputs": []
    },
    {
      "cell_type": "code",
      "metadata": {
        "id": "TbmayVj5jwST"
      },
      "source": [
        "#Assuming Missing values imply bad credit History - replacing nulls with 0\n",
        "\n",
        "loans_df['credithistory'] = loans_df['credithistory'].fillna(0)"
      ],
      "execution_count": null,
      "outputs": []
    },
    {
      "cell_type": "code",
      "metadata": {
        "id": "5pLPQ5DSjwV7"
      },
      "source": [
        "#Imputing gender, married, and selfemployed\n",
        "\n",
        "loans_df['dependents']=loans_df['dependents'].fillna(loans_df['dependents'].mode()[0])\n",
        "loans_df['gender']=loans_df['gender'].fillna(loans_df['gender'].mode()[0])\n",
        "loans_df['married']=loans_df['married'].fillna(loans_df['married'].mode()[0])\n",
        "loans_df['selfemployed']=loans_df['selfemployed'].fillna(loans_df['selfemployed'].mode()[0])"
      ],
      "execution_count": null,
      "outputs": []
    },
    {
      "cell_type": "code",
      "metadata": {
        "colab": {
          "base_uri": "https://localhost:8080/"
        },
        "id": "xoPEPMFKjwYA",
        "outputId": "199b63b2-3e99-443d-8b62-12ed9171a4d5"
      },
      "source": [
        "# Confirming our changes after dealing with null values\n",
        "\n",
        "loans_df.isnull().sum()"
      ],
      "execution_count": null,
      "outputs": [
        {
          "output_type": "execute_result",
          "data": {
            "text/plain": [
              "loanid               0\n",
              "gender               0\n",
              "married              0\n",
              "dependents           0\n",
              "education            0\n",
              "selfemployed         0\n",
              "applicantincome      0\n",
              "coapplicantincome    0\n",
              "loanamount           0\n",
              "loanamountterm       0\n",
              "credithistory        0\n",
              "propertyarea         0\n",
              "loanstatus           0\n",
              "dtype: int64"
            ]
          },
          "metadata": {
            "tags": []
          },
          "execution_count": 16
        }
      ]
    },
    {
      "cell_type": "code",
      "metadata": {
        "colab": {
          "base_uri": "https://localhost:8080/",
          "height": 397
        },
        "id": "tl4H02_7jwb9",
        "outputId": "f78b65b7-9408-4cfe-a220-f4146d0c33d8"
      },
      "source": [
        "# Previewing the data\n",
        "\n",
        "loans_df.head(10)"
      ],
      "execution_count": null,
      "outputs": [
        {
          "output_type": "execute_result",
          "data": {
            "text/html": [
              "<div>\n",
              "<style scoped>\n",
              "    .dataframe tbody tr th:only-of-type {\n",
              "        vertical-align: middle;\n",
              "    }\n",
              "\n",
              "    .dataframe tbody tr th {\n",
              "        vertical-align: top;\n",
              "    }\n",
              "\n",
              "    .dataframe thead th {\n",
              "        text-align: right;\n",
              "    }\n",
              "</style>\n",
              "<table border=\"1\" class=\"dataframe\">\n",
              "  <thead>\n",
              "    <tr style=\"text-align: right;\">\n",
              "      <th></th>\n",
              "      <th>loanid</th>\n",
              "      <th>gender</th>\n",
              "      <th>married</th>\n",
              "      <th>dependents</th>\n",
              "      <th>education</th>\n",
              "      <th>selfemployed</th>\n",
              "      <th>applicantincome</th>\n",
              "      <th>coapplicantincome</th>\n",
              "      <th>loanamount</th>\n",
              "      <th>loanamountterm</th>\n",
              "      <th>credithistory</th>\n",
              "      <th>propertyarea</th>\n",
              "      <th>loanstatus</th>\n",
              "    </tr>\n",
              "  </thead>\n",
              "  <tbody>\n",
              "    <tr>\n",
              "      <th>0</th>\n",
              "      <td>LP001002</td>\n",
              "      <td>Male</td>\n",
              "      <td>No</td>\n",
              "      <td>0</td>\n",
              "      <td>Graduate</td>\n",
              "      <td>No</td>\n",
              "      <td>5849</td>\n",
              "      <td>0.0</td>\n",
              "      <td>146.412162</td>\n",
              "      <td>360.0</td>\n",
              "      <td>1.0</td>\n",
              "      <td>Urban</td>\n",
              "      <td>Y</td>\n",
              "    </tr>\n",
              "    <tr>\n",
              "      <th>1</th>\n",
              "      <td>LP001003</td>\n",
              "      <td>Male</td>\n",
              "      <td>Yes</td>\n",
              "      <td>1</td>\n",
              "      <td>Graduate</td>\n",
              "      <td>No</td>\n",
              "      <td>4583</td>\n",
              "      <td>1508.0</td>\n",
              "      <td>128.000000</td>\n",
              "      <td>360.0</td>\n",
              "      <td>1.0</td>\n",
              "      <td>Rural</td>\n",
              "      <td>N</td>\n",
              "    </tr>\n",
              "    <tr>\n",
              "      <th>2</th>\n",
              "      <td>LP001005</td>\n",
              "      <td>Male</td>\n",
              "      <td>Yes</td>\n",
              "      <td>0</td>\n",
              "      <td>Graduate</td>\n",
              "      <td>Yes</td>\n",
              "      <td>3000</td>\n",
              "      <td>0.0</td>\n",
              "      <td>66.000000</td>\n",
              "      <td>360.0</td>\n",
              "      <td>1.0</td>\n",
              "      <td>Urban</td>\n",
              "      <td>Y</td>\n",
              "    </tr>\n",
              "    <tr>\n",
              "      <th>3</th>\n",
              "      <td>LP001006</td>\n",
              "      <td>Male</td>\n",
              "      <td>Yes</td>\n",
              "      <td>0</td>\n",
              "      <td>Not Graduate</td>\n",
              "      <td>No</td>\n",
              "      <td>2583</td>\n",
              "      <td>2358.0</td>\n",
              "      <td>120.000000</td>\n",
              "      <td>360.0</td>\n",
              "      <td>1.0</td>\n",
              "      <td>Urban</td>\n",
              "      <td>Y</td>\n",
              "    </tr>\n",
              "    <tr>\n",
              "      <th>4</th>\n",
              "      <td>LP001008</td>\n",
              "      <td>Male</td>\n",
              "      <td>No</td>\n",
              "      <td>0</td>\n",
              "      <td>Graduate</td>\n",
              "      <td>No</td>\n",
              "      <td>6000</td>\n",
              "      <td>0.0</td>\n",
              "      <td>141.000000</td>\n",
              "      <td>360.0</td>\n",
              "      <td>1.0</td>\n",
              "      <td>Urban</td>\n",
              "      <td>Y</td>\n",
              "    </tr>\n",
              "    <tr>\n",
              "      <th>5</th>\n",
              "      <td>LP001011</td>\n",
              "      <td>Male</td>\n",
              "      <td>Yes</td>\n",
              "      <td>2</td>\n",
              "      <td>Graduate</td>\n",
              "      <td>Yes</td>\n",
              "      <td>5417</td>\n",
              "      <td>4196.0</td>\n",
              "      <td>267.000000</td>\n",
              "      <td>360.0</td>\n",
              "      <td>1.0</td>\n",
              "      <td>Urban</td>\n",
              "      <td>Y</td>\n",
              "    </tr>\n",
              "    <tr>\n",
              "      <th>6</th>\n",
              "      <td>LP001013</td>\n",
              "      <td>Male</td>\n",
              "      <td>Yes</td>\n",
              "      <td>0</td>\n",
              "      <td>Not Graduate</td>\n",
              "      <td>No</td>\n",
              "      <td>2333</td>\n",
              "      <td>1516.0</td>\n",
              "      <td>95.000000</td>\n",
              "      <td>360.0</td>\n",
              "      <td>1.0</td>\n",
              "      <td>Urban</td>\n",
              "      <td>Y</td>\n",
              "    </tr>\n",
              "    <tr>\n",
              "      <th>7</th>\n",
              "      <td>LP001014</td>\n",
              "      <td>Male</td>\n",
              "      <td>Yes</td>\n",
              "      <td>3+</td>\n",
              "      <td>Graduate</td>\n",
              "      <td>No</td>\n",
              "      <td>3036</td>\n",
              "      <td>2504.0</td>\n",
              "      <td>158.000000</td>\n",
              "      <td>360.0</td>\n",
              "      <td>0.0</td>\n",
              "      <td>Semiurban</td>\n",
              "      <td>N</td>\n",
              "    </tr>\n",
              "    <tr>\n",
              "      <th>8</th>\n",
              "      <td>LP001018</td>\n",
              "      <td>Male</td>\n",
              "      <td>Yes</td>\n",
              "      <td>2</td>\n",
              "      <td>Graduate</td>\n",
              "      <td>No</td>\n",
              "      <td>4006</td>\n",
              "      <td>1526.0</td>\n",
              "      <td>168.000000</td>\n",
              "      <td>360.0</td>\n",
              "      <td>1.0</td>\n",
              "      <td>Urban</td>\n",
              "      <td>Y</td>\n",
              "    </tr>\n",
              "    <tr>\n",
              "      <th>9</th>\n",
              "      <td>LP001020</td>\n",
              "      <td>Male</td>\n",
              "      <td>Yes</td>\n",
              "      <td>1</td>\n",
              "      <td>Graduate</td>\n",
              "      <td>No</td>\n",
              "      <td>12841</td>\n",
              "      <td>10968.0</td>\n",
              "      <td>349.000000</td>\n",
              "      <td>360.0</td>\n",
              "      <td>1.0</td>\n",
              "      <td>Semiurban</td>\n",
              "      <td>N</td>\n",
              "    </tr>\n",
              "  </tbody>\n",
              "</table>\n",
              "</div>"
            ],
            "text/plain": [
              "     loanid gender married  ... credithistory propertyarea loanstatus\n",
              "0  LP001002   Male      No  ...           1.0        Urban          Y\n",
              "1  LP001003   Male     Yes  ...           1.0        Rural          N\n",
              "2  LP001005   Male     Yes  ...           1.0        Urban          Y\n",
              "3  LP001006   Male     Yes  ...           1.0        Urban          Y\n",
              "4  LP001008   Male      No  ...           1.0        Urban          Y\n",
              "5  LP001011   Male     Yes  ...           1.0        Urban          Y\n",
              "6  LP001013   Male     Yes  ...           1.0        Urban          Y\n",
              "7  LP001014   Male     Yes  ...           0.0    Semiurban          N\n",
              "8  LP001018   Male     Yes  ...           1.0        Urban          Y\n",
              "9  LP001020   Male     Yes  ...           1.0    Semiurban          N\n",
              "\n",
              "[10 rows x 13 columns]"
            ]
          },
          "metadata": {
            "tags": []
          },
          "execution_count": 17
        }
      ]
    },
    {
      "cell_type": "markdown",
      "metadata": {
        "id": "m2Cn131boz9P"
      },
      "source": [
        "Data Consistency"
      ]
    },
    {
      "cell_type": "code",
      "metadata": {
        "colab": {
          "base_uri": "https://localhost:8080/"
        },
        "id": "RJii5OZdhoIz",
        "outputId": "e403a5b7-142c-468d-8d02-74d067b91d3b"
      },
      "source": [
        "# Checking if there are any duplicated rows\n",
        "\n",
        "loans_df.duplicated().sum()\n"
      ],
      "execution_count": null,
      "outputs": [
        {
          "output_type": "execute_result",
          "data": {
            "text/plain": [
              "0"
            ]
          },
          "metadata": {
            "tags": []
          },
          "execution_count": 18
        }
      ]
    },
    {
      "cell_type": "code",
      "metadata": {
        "colab": {
          "base_uri": "https://localhost:8080/"
        },
        "id": "gnCGxac1TiV4",
        "outputId": "d806cd60-1eb0-4fe4-93e7-11483618fe8b"
      },
      "source": [
        "# Checking for any anomalies in the qualitative variables\n",
        "\n",
        "qcol = ['gender', 'married', 'dependents', 'education',\n",
        "       'selfemployed','credithistory', 'propertyarea', 'loanstatus']\n",
        "\n",
        "for col in qcol:\n",
        "  print(col, ':', loans_df[col].unique())"
      ],
      "execution_count": null,
      "outputs": [
        {
          "output_type": "stream",
          "text": [
            "gender : ['Male' 'Female']\n",
            "married : ['No' 'Yes']\n",
            "dependents : ['0' '1' '2' '3+']\n",
            "education : ['Graduate' 'Not Graduate']\n",
            "selfemployed : ['No' 'Yes']\n",
            "credithistory : [1. 0.]\n",
            "propertyarea : ['Urban' 'Rural' 'Semiurban']\n",
            "loanstatus : ['Y' 'N']\n"
          ],
          "name": "stdout"
        }
      ]
    },
    {
      "cell_type": "code",
      "metadata": {
        "colab": {
          "base_uri": "https://localhost:8080/",
          "height": 1000
        },
        "id": "6nJRzbosrVw0",
        "outputId": "ff7e52b8-85ed-4389-d372-e3dcf3f61c97"
      },
      "source": [
        "#Checking for Outliers\n",
        "cols = ['applicantincome','coapplicantincome', 'loanamount', 'loanamountterm']\n",
        "\n",
        "for column in cols:\n",
        "    plt.figure()\n",
        "    loans_df.boxplot([column], fontsize= 12)\n",
        "    plt.ylabel('count', fontsize = 12)\n",
        "    plt.title('Boxplot - {}'.format(column), fontsize = 16)"
      ],
      "execution_count": null,
      "outputs": [
        {
          "output_type": "display_data",
          "data": {
            "image/png": "[encoded data removed]",
            "text/plain": [
              "<Figure size 432x288 with 1 Axes>"
            ]
          },
          "metadata": {
            "tags": [],
            "needs_background": "light"
          }
        },
        {
          "output_type": "display_data",
          "data": {
            "image/png": "[encoded data removed]",
            "text/plain": [
              "<Figure size 432x288 with 1 Axes>"
            ]
          },
          "metadata": {
            "tags": [],
            "needs_background": "light"
          }
        },
        {
          "output_type": "display_data",
          "data": {
            "image/png": "[encoded data removed]",
            "text/plain": [
              "<Figure size 432x288 with 1 Axes>"
            ]
          },
          "metadata": {
            "tags": [],
            "needs_background": "light"
          }
        },
        {
          "output_type": "display_data",
          "data": {
            "image/png": "[encoded data removed]",
            "text/plain": [
              "<Figure size 432x288 with 1 Axes>"
            ]
          },
          "metadata": {
            "tags": [],
            "needs_background": "light"
          }
        }
      ]
    },
    {
      "cell_type": "code",
      "metadata": {
        "colab": {
          "base_uri": "https://localhost:8080/"
        },
        "id": "LxRfQNleU1pv",
        "outputId": "11777706-e005-415b-c6e9-b87c9b50ca03"
      },
      "source": [
        "# Determining how many rows would be lost if outliers were removed\n",
        "\n",
        "# Calculating our first, third quantiles and then later our IQR\n",
        "# ---\n",
        "Q1 = loans_df.quantile(0.25)\n",
        "Q3 = loans_df.quantile(0.75)\n",
        "IQR = Q3 - Q1\n",
        "\n",
        "# Removing outliers based on the IQR range and stores the result in the data frame 'auto'\n",
        "# ---\n",
        "# \n",
        "loans_df_new = loans_df[~((loans_df < (Q1 - 1.5 * IQR)) | (loans_df > (Q3 + 1.5 * IQR))).any(axis=1)]\n",
        "\n",
        "# Printing the shape of our new dataset\n",
        "# ---\n",
        "# \n",
        "print(loans_df_new.shape)\n",
        "\n",
        "# Printing the shape of our old dataset\n",
        "# ---\n",
        "#\n",
        "print(loans_df.shape)\n",
        "\n",
        "# Number of rows removed\n",
        "\n",
        "rows_removed = loans_df.shape[0] - loans_df_new.shape[0]\n",
        "rows_removed\n",
        "\n",
        "# Percentage of rows removed of the percentage\n",
        "row_percent = (rows_removed/loans_df.shape[0]) * 100\n",
        "row_percent"
      ],
      "execution_count": null,
      "outputs": [
        {
          "output_type": "stream",
          "text": [
            "(355, 13)\n",
            "(614, 13)\n"
          ],
          "name": "stdout"
        },
        {
          "output_type": "execute_result",
          "data": {
            "text/plain": [
              "42.18241042345277"
            ]
          },
          "metadata": {
            "tags": []
          },
          "execution_count": 22
        }
      ]
    },
    {
      "cell_type": "code",
      "metadata": {
        "id": "GpWlB3Fx_N6j"
      },
      "source": [
        "# Exporting our data\n",
        "\n",
        "loans_df.to_csv('loanscleaned.csv')"
      ],
      "execution_count": null,
      "outputs": []
    },
    {
      "cell_type": "markdown",
      "metadata": {
        "id": "hKEgp4tisMLz"
      },
      "source": [
        "## 6. Exploratory Data Analysis"
      ]
    },
    {
      "cell_type": "markdown",
      "metadata": {
        "id": "a7vEdTzIsRoB"
      },
      "source": [
        "### a) Univariate Analysis"
      ]
    },
    {
      "cell_type": "code",
      "metadata": {
        "colab": {
          "base_uri": "https://localhost:8080/",
          "height": 173
        },
        "id": "xXwwxR1qr0xK",
        "outputId": "19c0a941-79bf-43fe-e036-870302d258fa"
      },
      "source": [
        "# Previewing the dataset\n",
        "\n",
        "loans_df.head(4)"
      ],
      "execution_count": null,
      "outputs": [
        {
          "output_type": "execute_result",
          "data": {
            "text/html": [
              "<div>\n",
              "<style scoped>\n",
              "    .dataframe tbody tr th:only-of-type {\n",
              "        vertical-align: middle;\n",
              "    }\n",
              "\n",
              "    .dataframe tbody tr th {\n",
              "        vertical-align: top;\n",
              "    }\n",
              "\n",
              "    .dataframe thead th {\n",
              "        text-align: right;\n",
              "    }\n",
              "</style>\n",
              "<table border=\"1\" class=\"dataframe\">\n",
              "  <thead>\n",
              "    <tr style=\"text-align: right;\">\n",
              "      <th></th>\n",
              "      <th>loanid</th>\n",
              "      <th>gender</th>\n",
              "      <th>married</th>\n",
              "      <th>dependents</th>\n",
              "      <th>education</th>\n",
              "      <th>selfemployed</th>\n",
              "      <th>applicantincome</th>\n",
              "      <th>coapplicantincome</th>\n",
              "      <th>loanamount</th>\n",
              "      <th>loanamountterm</th>\n",
              "      <th>credithistory</th>\n",
              "      <th>propertyarea</th>\n",
              "      <th>loanstatus</th>\n",
              "    </tr>\n",
              "  </thead>\n",
              "  <tbody>\n",
              "    <tr>\n",
              "      <th>0</th>\n",
              "      <td>LP001002</td>\n",
              "      <td>Male</td>\n",
              "      <td>No</td>\n",
              "      <td>0</td>\n",
              "      <td>Graduate</td>\n",
              "      <td>No</td>\n",
              "      <td>5849</td>\n",
              "      <td>0.0</td>\n",
              "      <td>146.412162</td>\n",
              "      <td>360.0</td>\n",
              "      <td>1.0</td>\n",
              "      <td>Urban</td>\n",
              "      <td>Y</td>\n",
              "    </tr>\n",
              "    <tr>\n",
              "      <th>1</th>\n",
              "      <td>LP001003</td>\n",
              "      <td>Male</td>\n",
              "      <td>Yes</td>\n",
              "      <td>1</td>\n",
              "      <td>Graduate</td>\n",
              "      <td>No</td>\n",
              "      <td>4583</td>\n",
              "      <td>1508.0</td>\n",
              "      <td>128.000000</td>\n",
              "      <td>360.0</td>\n",
              "      <td>1.0</td>\n",
              "      <td>Rural</td>\n",
              "      <td>N</td>\n",
              "    </tr>\n",
              "    <tr>\n",
              "      <th>2</th>\n",
              "      <td>LP001005</td>\n",
              "      <td>Male</td>\n",
              "      <td>Yes</td>\n",
              "      <td>0</td>\n",
              "      <td>Graduate</td>\n",
              "      <td>Yes</td>\n",
              "      <td>3000</td>\n",
              "      <td>0.0</td>\n",
              "      <td>66.000000</td>\n",
              "      <td>360.0</td>\n",
              "      <td>1.0</td>\n",
              "      <td>Urban</td>\n",
              "      <td>Y</td>\n",
              "    </tr>\n",
              "    <tr>\n",
              "      <th>3</th>\n",
              "      <td>LP001006</td>\n",
              "      <td>Male</td>\n",
              "      <td>Yes</td>\n",
              "      <td>0</td>\n",
              "      <td>Not Graduate</td>\n",
              "      <td>No</td>\n",
              "      <td>2583</td>\n",
              "      <td>2358.0</td>\n",
              "      <td>120.000000</td>\n",
              "      <td>360.0</td>\n",
              "      <td>1.0</td>\n",
              "      <td>Urban</td>\n",
              "      <td>Y</td>\n",
              "    </tr>\n",
              "  </tbody>\n",
              "</table>\n",
              "</div>"
            ],
            "text/plain": [
              "     loanid gender married  ... credithistory propertyarea loanstatus\n",
              "0  LP001002   Male      No  ...           1.0        Urban          Y\n",
              "1  LP001003   Male     Yes  ...           1.0        Rural          N\n",
              "2  LP001005   Male     Yes  ...           1.0        Urban          Y\n",
              "3  LP001006   Male     Yes  ...           1.0        Urban          Y\n",
              "\n",
              "[4 rows x 13 columns]"
            ]
          },
          "metadata": {
            "tags": []
          },
          "execution_count": 44
        }
      ]
    },
    {
      "cell_type": "code",
      "metadata": {
        "colab": {
          "base_uri": "https://localhost:8080/",
          "height": 627
        },
        "id": "yvQg3Y1isLOB",
        "outputId": "1f9871c7-1d36-4fe3-c7cc-80a80acfedfe"
      },
      "source": [
        "# Loan Status\n",
        "\n",
        "Yes = loans_df[loans_df[\"loanstatus\"] == 'Y'].shape[0]\n",
        "No = loans_df[loans_df[\"loanstatus\"] == 'N'].shape[0]\n",
        "print(f\"Yes = {Yes}\")\n",
        "print(f\"No = {No}\")\n",
        "print(' ')\n",
        "print(f\"Proportion of Yes = {(Yes / len(loans_df['loanstatus'])) * 100:.2f}%\")\n",
        "print(f\"Proportion of No  = {(No / len(loans_df['loanstatus'])) * 100:.2f}%\")\n",
        "print(' ')                                                      \n",
        "plt.figure(figsize=(10, 8))\n",
        "sns.countplot(x = loans_df[\"loanstatus\"])\n",
        "plt.xticks((0, 1), [\"Yes\", \"No\"], fontsize = 14)\n",
        "plt.xlabel(\"Loan Approval Status\", fontsize = 14)\n",
        "plt.ylabel(\"Frequency\", fontsize = 14)\n",
        "plt.title(\"Number of Approved and Disapproved Loans\", y=1, fontdict={\"fontsize\": 20});"
      ],
      "execution_count": null,
      "outputs": [
        {
          "output_type": "stream",
          "text": [
            "Yes = 422\n",
            "No = 192\n",
            " \n",
            "Proportion of Yes = 68.73%\n",
            "Proportion of No  = 31.27%\n",
            " \n"
          ],
          "name": "stdout"
        },
        {
          "output_type": "display_data",
          "data": {
            "image/png": "[encoded data removed]",
            "text/plain": [
              "<Figure size 720x576 with 1 Axes>"
            ]
          },
          "metadata": {
            "tags": [],
            "needs_background": "light"
          }
        }
      ]
    },
    {
      "cell_type": "code",
      "metadata": {
        "colab": {
          "base_uri": "https://localhost:8080/",
          "height": 436
        },
        "id": "YtjrIa8isLRi",
        "outputId": "11910e48-21ce-49ee-98a9-9d43c7a8d4d2"
      },
      "source": [
        "# Pie Chart for Gender\n",
        "\n",
        "gender = loans_df.gender.value_counts()\n",
        "plt.figure(figsize= (8,5), dpi=100)\n",
        "\n",
        "# Highlighting yes\n",
        "explode = (0.1, 0)  \n",
        "colors = ['blue', 'orange']\n",
        "\n",
        "# Plotting our pie chart\n",
        "gender.plot.pie(explode = explode, colors = colors, autopct='%1.1f%%', shadow=True, startangle=140)\n",
        "\n",
        "plt.axis('equal')\n",
        "plt.title('Pie chart of Gender Distribution')\n",
        "plt.show()"
      ],
      "execution_count": null,
      "outputs": [
        {
          "output_type": "display_data",
          "data": {
            "image/png": "[encoded data removed]",
            "text/plain": [
              "<Figure size 800x500 with 1 Axes>"
            ]
          },
          "metadata": {
            "tags": []
          }
        }
      ]
    },
    {
      "cell_type": "code",
      "metadata": {
        "colab": {
          "base_uri": "https://localhost:8080/",
          "height": 438
        },
        "id": "Y1SpA6bMsLWw",
        "outputId": "5ee4249f-289e-483a-e913-f0269d15ceda"
      },
      "source": [
        "# Pie Chart for Education\n",
        "\n",
        "education = loans_df.education.value_counts()\n",
        "plt.figure(figsize= (8,5), dpi=100)\n",
        "\n",
        "# Highlighting yes\n",
        "explode = (0.1, 0)  \n",
        "colors = ['blue', 'orange']\n",
        "\n",
        "# Plotting our pie chart\n",
        "education.plot.pie(explode = explode, colors = colors, autopct='%1.1f%%', shadow=True, startangle=140)\n",
        "\n",
        "plt.axis('equal')\n",
        "plt.title('Pie chart of Education')\n",
        "plt.show()"
      ],
      "execution_count": null,
      "outputs": [
        {
          "output_type": "display_data",
          "data": {
            "image/png": "[encoded data removed]",
            "text/plain": [
              "<Figure size 800x500 with 1 Axes>"
            ]
          },
          "metadata": {
            "tags": []
          }
        }
      ]
    },
    {
      "cell_type": "code",
      "metadata": {
        "colab": {
          "base_uri": "https://localhost:8080/",
          "height": 627
        },
        "id": "uPBuaOXswv12",
        "outputId": "0542fa63-86e2-4786-fcb2-3ae4ba8403e7"
      },
      "source": [
        "# Marital status\n",
        "\n",
        "Yes = loans_df[loans_df[\"married\"] == 'Yes'].shape[0]\n",
        "No = loans_df[loans_df[\"married\"] == 'No'].shape[0]\n",
        "print(f\"Yes = {Yes}\")\n",
        "print(f\"No = {No}\")\n",
        "print(' ')\n",
        "print(f\"Proportion of Yes = {(Yes / len(loans_df['married'])) * 100:.2f}%\")\n",
        "print(f\"Proportion of No  = {(No / len(loans_df['married'])) * 100:.2f}%\") \n",
        "print(' ')                                                     \n",
        "plt.figure(figsize=(10, 8))\n",
        "sns.countplot(x = loans_df[\"married\"])\n",
        "plt.xticks((0, 1), [\"No\", \"Yes\"], fontsize = 14)\n",
        "plt.xlabel(\"Marital Status\", fontsize = 14)\n",
        "plt.ylabel(\"Frequency\", fontsize = 14)\n",
        "plt.title(\"Marital Status\", y=1, fontdict={\"fontsize\": 20});"
      ],
      "execution_count": null,
      "outputs": [
        {
          "output_type": "stream",
          "text": [
            "Yes = 401\n",
            "No = 213\n",
            " \n",
            "Proportion of Yes = 65.31%\n",
            "Proportion of No  = 34.69%\n",
            " \n"
          ],
          "name": "stdout"
        },
        {
          "output_type": "display_data",
          "data": {
            "image/png": "[encoded data removed]",
            "text/plain": [
              "<Figure size 720x576 with 1 Axes>"
            ]
          },
          "metadata": {
            "tags": [],
            "needs_background": "light"
          }
        }
      ]
    },
    {
      "cell_type": "code",
      "metadata": {
        "colab": {
          "base_uri": "https://localhost:8080/"
        },
        "id": "K_yqF6EWwwN6",
        "outputId": "3253199e-660d-44a2-a03e-04fcafffec92"
      },
      "source": [
        "# Frequency table for Property Area in percentage\n",
        "\n",
        "round(loans_df.propertyarea.value_counts(normalize = True),2)"
      ],
      "execution_count": null,
      "outputs": [
        {
          "output_type": "execute_result",
          "data": {
            "text/plain": [
              "Semiurban    0.38\n",
              "Urban        0.33\n",
              "Rural        0.29\n",
              "Name: propertyarea, dtype: float64"
            ]
          },
          "metadata": {
            "tags": []
          },
          "execution_count": 72
        }
      ]
    },
    {
      "cell_type": "code",
      "metadata": {
        "colab": {
          "base_uri": "https://localhost:8080/",
          "height": 439
        },
        "id": "MyywgxZ_dGF9",
        "outputId": "9f0bd946-c157-411d-e2a9-0ea5897f30e6"
      },
      "source": [
        "# Pie Chart for Credit History\n",
        "\n",
        "credit = loans_df.credithistory.value_counts()\n",
        "plt.figure(figsize= (8,5), dpi=100)\n",
        "\n",
        "# Highlighting yes\n",
        "explode = (0.1, 0)  \n",
        "colors = ['blue', 'orange']\n",
        "\n",
        "# Plotting our pie chart\n",
        "credit.plot.pie(explode = explode, colors = colors, autopct='%1.1f%%', shadow=True, startangle=140)\n",
        "\n",
        "plt.axis('equal')\n",
        "plt.title('Pie chart of Credit History')\n",
        "plt.show()"
      ],
      "execution_count": null,
      "outputs": [
        {
          "output_type": "display_data",
          "data": {
            "image/png": "[encoded data removed]",
            "text/plain": [
              "<Figure size 800x500 with 1 Axes>"
            ]
          },
          "metadata": {
            "tags": []
          }
        }
      ]
    },
    {
      "cell_type": "code",
      "metadata": {
        "colab": {
          "base_uri": "https://localhost:8080/"
        },
        "id": "_X_X90gLcjRR",
        "outputId": "d1ec816e-5537-40a6-a8b3-2c09d8d68026"
      },
      "source": [
        "# Frequency table for Self Employed status in percentage\n",
        "\n",
        "round(loans_df.selfemployed.value_counts(normalize = True),2)"
      ],
      "execution_count": null,
      "outputs": [
        {
          "output_type": "execute_result",
          "data": {
            "text/plain": [
              "No     0.87\n",
              "Yes    0.13\n",
              "Name: selfemployed, dtype: float64"
            ]
          },
          "metadata": {
            "tags": []
          },
          "execution_count": 37
        }
      ]
    },
    {
      "cell_type": "code",
      "metadata": {
        "colab": {
          "base_uri": "https://localhost:8080/"
        },
        "id": "BqR9VHizc7mX",
        "outputId": "4e7d9414-8585-4ae7-ce21-974ac281170a"
      },
      "source": [
        "# Frequency table for Dependents in percentage\n",
        "\n",
        "round(loans_df.dependents.value_counts(normalize = True),2)"
      ],
      "execution_count": null,
      "outputs": [
        {
          "output_type": "execute_result",
          "data": {
            "text/plain": [
              "0     0.59\n",
              "1     0.17\n",
              "2     0.16\n",
              "3+    0.08\n",
              "Name: dependents, dtype: float64"
            ]
          },
          "metadata": {
            "tags": []
          },
          "execution_count": 38
        }
      ]
    },
    {
      "cell_type": "code",
      "metadata": {
        "colab": {
          "base_uri": "https://localhost:8080/",
          "height": 523
        },
        "id": "guwU-z3UwwW0",
        "outputId": "3e00b475-588a-469d-fee2-e8d8176ed934"
      },
      "source": [
        "# Histogram for Applicant Income\n",
        "\n",
        "def histogram(var1, bins):\n",
        "  plt.figure(figsize= (10,8)),\n",
        "  sns.set_style('darkgrid'),\n",
        "  sns.set_palette('colorblind'),\n",
        "  sns.histplot(x = var1, data=loans_df,  bins = bins , shrink= 0.9, kde = True)\n",
        "\n",
        "histogram('applicantincome', 50)\n",
        "plt.title('Histogram of the Applicant Income', fontsize = 16)\n",
        "plt.xlabel('Applicant Income', fontsize = 14)\n",
        "plt.ylabel('Count', fontsize = 14)\n",
        "plt.xticks(fontsize = 14)\n",
        "plt.yticks(fontsize = 14)\n",
        "plt.show()"
      ],
      "execution_count": null,
      "outputs": [
        {
          "output_type": "display_data",
          "data": {
            "image/png": "[encoded data removed]",
            "text/plain": [
              "<Figure size 720x576 with 1 Axes>"
            ]
          },
          "metadata": {
            "tags": [],
            "needs_background": "light"
          }
        }
      ]
    },
    {
      "cell_type": "code",
      "metadata": {
        "colab": {
          "base_uri": "https://localhost:8080/"
        },
        "id": "6BkpMTzhbfjv",
        "outputId": "feb84a43-7d80-443f-868c-bc35d76bccd6"
      },
      "source": [
        "# Checking on coefficent of variance, skewness and kurtosis\n",
        "\n",
        "print('The skewness is:', loans_df['applicantincome'].skew())\n",
        "print('The kurtosis is:', loans_df['applicantincome'].kurt())\n",
        "print('The coefficient of variation is:', loans_df['applicantincome'].std()/loans_df['applicantincome'].mean())"
      ],
      "execution_count": null,
      "outputs": [
        {
          "output_type": "stream",
          "text": [
            "The skewness is: 6.539513113994625\n",
            "The kurtosis is: 60.54067593369113\n",
            "The coefficient of variation is: 1.1305797551151708\n"
          ],
          "name": "stdout"
        }
      ]
    },
    {
      "cell_type": "code",
      "metadata": {
        "colab": {
          "base_uri": "https://localhost:8080/",
          "height": 523
        },
        "id": "RNAG1ULrwwbt",
        "outputId": "50e5325b-96ec-4a72-a21a-428fef629751"
      },
      "source": [
        "# Histogram for Loan Amount\n",
        "\n",
        "histogram('loanamount', 50)\n",
        "\n",
        "plt.title('Histogram of the Loan Amount Given', fontsize = 16)\n",
        "plt.xlabel('Applicant Income', fontsize = 14)\n",
        "plt.ylabel('Count', fontsize = 14)\n",
        "plt.xticks(fontsize = 14)\n",
        "plt.yticks(fontsize = 14)\n",
        "plt.show()"
      ],
      "execution_count": null,
      "outputs": [
        {
          "output_type": "display_data",
          "data": {
            "image/png": "[encoded data removed]",
            "text/plain": [
              "<Figure size 720x576 with 1 Axes>"
            ]
          },
          "metadata": {
            "tags": []
          }
        }
      ]
    },
    {
      "cell_type": "code",
      "metadata": {
        "colab": {
          "base_uri": "https://localhost:8080/"
        },
        "id": "syJ-tg5BcI3a",
        "outputId": "34a1b07a-ddec-41ab-8f65-b1d609576149"
      },
      "source": [
        "# Checking on coefficent of variance, skewness and kurtosis\n",
        "\n",
        "print('The skewness is:', loans_df['loanamount'].skew())\n",
        "print('The kurtosis is:', loans_df['loanamount'].kurt())\n",
        "print('The coefficient of variation is:', loans_df['loanamount'].std()/loans_df['loanamount'].mean())"
      ],
      "execution_count": null,
      "outputs": [
        {
          "output_type": "stream",
          "text": [
            "The skewness is: 2.726601144105299\n",
            "The kurtosis is: 10.896456468091559\n",
            "The coefficient of variation is: 0.5739787353875622\n"
          ],
          "name": "stdout"
        }
      ]
    },
    {
      "cell_type": "code",
      "metadata": {
        "colab": {
          "base_uri": "https://localhost:8080/",
          "height": 523
        },
        "id": "pbmk3k_bZUI2",
        "outputId": "20d3b37a-8c6b-4a9c-f2cb-f09d719b0e4a"
      },
      "source": [
        "# Histogram for Co-applicant Income\n",
        "\n",
        "histogram('coapplicantincome', 50)\n",
        "\n",
        "plt.title('Histogram of the Co-applicant Income', fontsize = 16)\n",
        "plt.xlabel('Co-applicant Income', fontsize = 14)\n",
        "plt.ylabel('Count', fontsize = 14)\n",
        "plt.xticks(fontsize = 14)\n",
        "plt.yticks(fontsize = 14)\n",
        "plt.show()"
      ],
      "execution_count": null,
      "outputs": [
        {
          "output_type": "display_data",
          "data": {
            "image/png": "[encoded data removed]",
            "text/plain": [
              "<Figure size 720x576 with 1 Axes>"
            ]
          },
          "metadata": {
            "tags": []
          }
        }
      ]
    },
    {
      "cell_type": "code",
      "metadata": {
        "colab": {
          "base_uri": "https://localhost:8080/"
        },
        "id": "9l6i6A8ycbJz",
        "outputId": "8020ad99-28c1-43ac-95fb-916e1883044d"
      },
      "source": [
        "# Checking on coefficent of variance, skewness and kurtosis\n",
        "\n",
        "print('The skewness is:', loans_df['coapplicantincome'].skew())\n",
        "print('The kurtosis is:', loans_df['coapplicantincome'].kurt())\n",
        "print('The coefficient of variation is:', loans_df['coapplicantincome'].std()/loans_df['coapplicantincome'].mean())"
      ],
      "execution_count": null,
      "outputs": [
        {
          "output_type": "stream",
          "text": [
            "The skewness is: 7.491531216657306\n",
            "The kurtosis is: 84.95638421103374\n",
            "The coefficient of variation is: 1.8049381363301926\n"
          ],
          "name": "stdout"
        }
      ]
    },
    {
      "cell_type": "code",
      "metadata": {
        "colab": {
          "base_uri": "https://localhost:8080/"
        },
        "id": "R88iKXbY9cxC",
        "outputId": "2287e582-38ee-49d8-d8f6-359308c5dbc1"
      },
      "source": [
        "# Looking at the unique variables in amount\n",
        "\n",
        "loans_df.loanamountterm.unique()"
      ],
      "execution_count": null,
      "outputs": [
        {
          "output_type": "execute_result",
          "data": {
            "text/plain": [
              "array([360., 120., 240., 180.,  60., 300., 480.,  36.,  84.,  12.])"
            ]
          },
          "metadata": {
            "tags": []
          },
          "execution_count": 83
        }
      ]
    },
    {
      "cell_type": "code",
      "metadata": {
        "colab": {
          "base_uri": "https://localhost:8080/",
          "height": 297
        },
        "id": "01prmxQxsLZq",
        "outputId": "6bab6e61-c3e3-41d2-f631-7c2d20c274c6"
      },
      "source": [
        "# Measures of central tendency for our quantitative variables\n",
        "\n",
        "loans_df.describe()"
      ],
      "execution_count": null,
      "outputs": [
        {
          "output_type": "execute_result",
          "data": {
            "text/html": [
              "<div>\n",
              "<style scoped>\n",
              "    .dataframe tbody tr th:only-of-type {\n",
              "        vertical-align: middle;\n",
              "    }\n",
              "\n",
              "    .dataframe tbody tr th {\n",
              "        vertical-align: top;\n",
              "    }\n",
              "\n",
              "    .dataframe thead th {\n",
              "        text-align: right;\n",
              "    }\n",
              "</style>\n",
              "<table border=\"1\" class=\"dataframe\">\n",
              "  <thead>\n",
              "    <tr style=\"text-align: right;\">\n",
              "      <th></th>\n",
              "      <th>applicantincome</th>\n",
              "      <th>coapplicantincome</th>\n",
              "      <th>loanamount</th>\n",
              "      <th>loanamountterm</th>\n",
              "      <th>credithistory</th>\n",
              "    </tr>\n",
              "  </thead>\n",
              "  <tbody>\n",
              "    <tr>\n",
              "      <th>count</th>\n",
              "      <td>614.000000</td>\n",
              "      <td>614.000000</td>\n",
              "      <td>614.000000</td>\n",
              "      <td>614.000000</td>\n",
              "      <td>614.000000</td>\n",
              "    </tr>\n",
              "    <tr>\n",
              "      <th>mean</th>\n",
              "      <td>5403.459283</td>\n",
              "      <td>1621.245798</td>\n",
              "      <td>146.412162</td>\n",
              "      <td>341.628664</td>\n",
              "      <td>0.773616</td>\n",
              "    </tr>\n",
              "    <tr>\n",
              "      <th>std</th>\n",
              "      <td>6109.041673</td>\n",
              "      <td>2926.248369</td>\n",
              "      <td>84.037468</td>\n",
              "      <td>65.656819</td>\n",
              "      <td>0.418832</td>\n",
              "    </tr>\n",
              "    <tr>\n",
              "      <th>min</th>\n",
              "      <td>150.000000</td>\n",
              "      <td>0.000000</td>\n",
              "      <td>9.000000</td>\n",
              "      <td>12.000000</td>\n",
              "      <td>0.000000</td>\n",
              "    </tr>\n",
              "    <tr>\n",
              "      <th>25%</th>\n",
              "      <td>2877.500000</td>\n",
              "      <td>0.000000</td>\n",
              "      <td>100.250000</td>\n",
              "      <td>360.000000</td>\n",
              "      <td>1.000000</td>\n",
              "    </tr>\n",
              "    <tr>\n",
              "      <th>50%</th>\n",
              "      <td>3812.500000</td>\n",
              "      <td>1188.500000</td>\n",
              "      <td>129.000000</td>\n",
              "      <td>360.000000</td>\n",
              "      <td>1.000000</td>\n",
              "    </tr>\n",
              "    <tr>\n",
              "      <th>75%</th>\n",
              "      <td>5795.000000</td>\n",
              "      <td>2297.250000</td>\n",
              "      <td>164.750000</td>\n",
              "      <td>360.000000</td>\n",
              "      <td>1.000000</td>\n",
              "    </tr>\n",
              "    <tr>\n",
              "      <th>max</th>\n",
              "      <td>81000.000000</td>\n",
              "      <td>41667.000000</td>\n",
              "      <td>700.000000</td>\n",
              "      <td>480.000000</td>\n",
              "      <td>1.000000</td>\n",
              "    </tr>\n",
              "  </tbody>\n",
              "</table>\n",
              "</div>"
            ],
            "text/plain": [
              "       applicantincome  coapplicantincome  ...  loanamountterm  credithistory\n",
              "count       614.000000         614.000000  ...      614.000000     614.000000\n",
              "mean       5403.459283        1621.245798  ...      341.628664       0.773616\n",
              "std        6109.041673        2926.248369  ...       65.656819       0.418832\n",
              "min         150.000000           0.000000  ...       12.000000       0.000000\n",
              "25%        2877.500000           0.000000  ...      360.000000       1.000000\n",
              "50%        3812.500000        1188.500000  ...      360.000000       1.000000\n",
              "75%        5795.000000        2297.250000  ...      360.000000       1.000000\n",
              "max       81000.000000       41667.000000  ...      480.000000       1.000000\n",
              "\n",
              "[8 rows x 5 columns]"
            ]
          },
          "metadata": {
            "tags": []
          },
          "execution_count": 81
        }
      ]
    },
    {
      "cell_type": "markdown",
      "metadata": {
        "id": "MTfYjlQV9_GU"
      },
      "source": [
        "### b) Bivariate Analysis"
      ]
    },
    {
      "cell_type": "code",
      "metadata": {
        "colab": {
          "base_uri": "https://localhost:8080/",
          "height": 142
        },
        "id": "9GYBxev7-FpT",
        "outputId": "f979777c-32a7-4c49-f911-edbcc006930d"
      },
      "source": [
        "# Preview of dataset\n",
        "\n",
        "loans_df.head(3)"
      ],
      "execution_count": null,
      "outputs": [
        {
          "output_type": "execute_result",
          "data": {
            "text/html": [
              "<div>\n",
              "<style scoped>\n",
              "    .dataframe tbody tr th:only-of-type {\n",
              "        vertical-align: middle;\n",
              "    }\n",
              "\n",
              "    .dataframe tbody tr th {\n",
              "        vertical-align: top;\n",
              "    }\n",
              "\n",
              "    .dataframe thead th {\n",
              "        text-align: right;\n",
              "    }\n",
              "</style>\n",
              "<table border=\"1\" class=\"dataframe\">\n",
              "  <thead>\n",
              "    <tr style=\"text-align: right;\">\n",
              "      <th></th>\n",
              "      <th>loanid</th>\n",
              "      <th>gender</th>\n",
              "      <th>married</th>\n",
              "      <th>dependents</th>\n",
              "      <th>education</th>\n",
              "      <th>selfemployed</th>\n",
              "      <th>applicantincome</th>\n",
              "      <th>coapplicantincome</th>\n",
              "      <th>loanamount</th>\n",
              "      <th>loanamountterm</th>\n",
              "      <th>credithistory</th>\n",
              "      <th>propertyarea</th>\n",
              "      <th>loanstatus</th>\n",
              "    </tr>\n",
              "  </thead>\n",
              "  <tbody>\n",
              "    <tr>\n",
              "      <th>0</th>\n",
              "      <td>LP001002</td>\n",
              "      <td>Male</td>\n",
              "      <td>No</td>\n",
              "      <td>0</td>\n",
              "      <td>Graduate</td>\n",
              "      <td>No</td>\n",
              "      <td>5849</td>\n",
              "      <td>0.0</td>\n",
              "      <td>146.412162</td>\n",
              "      <td>360.0</td>\n",
              "      <td>1.0</td>\n",
              "      <td>Urban</td>\n",
              "      <td>Y</td>\n",
              "    </tr>\n",
              "    <tr>\n",
              "      <th>1</th>\n",
              "      <td>LP001003</td>\n",
              "      <td>Male</td>\n",
              "      <td>Yes</td>\n",
              "      <td>1</td>\n",
              "      <td>Graduate</td>\n",
              "      <td>No</td>\n",
              "      <td>4583</td>\n",
              "      <td>1508.0</td>\n",
              "      <td>128.000000</td>\n",
              "      <td>360.0</td>\n",
              "      <td>1.0</td>\n",
              "      <td>Rural</td>\n",
              "      <td>N</td>\n",
              "    </tr>\n",
              "    <tr>\n",
              "      <th>2</th>\n",
              "      <td>LP001005</td>\n",
              "      <td>Male</td>\n",
              "      <td>Yes</td>\n",
              "      <td>0</td>\n",
              "      <td>Graduate</td>\n",
              "      <td>Yes</td>\n",
              "      <td>3000</td>\n",
              "      <td>0.0</td>\n",
              "      <td>66.000000</td>\n",
              "      <td>360.0</td>\n",
              "      <td>1.0</td>\n",
              "      <td>Urban</td>\n",
              "      <td>Y</td>\n",
              "    </tr>\n",
              "  </tbody>\n",
              "</table>\n",
              "</div>"
            ],
            "text/plain": [
              "     loanid gender married  ... credithistory propertyarea loanstatus\n",
              "0  LP001002   Male      No  ...           1.0        Urban          Y\n",
              "1  LP001003   Male     Yes  ...           1.0        Rural          N\n",
              "2  LP001005   Male     Yes  ...           1.0        Urban          Y\n",
              "\n",
              "[3 rows x 13 columns]"
            ]
          },
          "metadata": {
            "tags": []
          },
          "execution_count": 82
        }
      ]
    },
    {
      "cell_type": "code",
      "metadata": {
        "colab": {
          "base_uri": "https://localhost:8080/",
          "height": 523
        },
        "id": "xonvVt_ZCQpA",
        "outputId": "2380f42e-d128-4cc3-c84d-09ef4135f06e"
      },
      "source": [
        "# Comparison of Self employment Status and Loan Status \n",
        "\n",
        "table=pd.crosstab(loans_df['selfemployed'],loans_df['loanstatus'])\n",
        "table.div(table.sum(1).astype(float), axis=0).plot(kind='bar', figsize= (10,8), stacked=False)\n",
        "plt.title('Stacked Bar Chart of Self Employed to Loan Status', fontsize = 16)\n",
        "plt.xlabel('Self Employed', fontsize = 14)\n",
        "plt.ylabel('Proportion of Respondents', fontsize = 14)\n",
        "plt.xticks(rotation = 360, fontsize = 14)\n",
        "plt.yticks(fontsize = 14)\n",
        "plt.show()"
      ],
      "execution_count": null,
      "outputs": [
        {
          "output_type": "display_data",
          "data": {
            "image/png": "[encoded data removed]",
            "text/plain": [
              "<Figure size 720x576 with 1 Axes>"
            ]
          },
          "metadata": {
            "tags": []
          }
        }
      ]
    },
    {
      "cell_type": "code",
      "metadata": {
        "colab": {
          "base_uri": "https://localhost:8080/",
          "height": 523
        },
        "id": "vYVCMkh1CrFh",
        "outputId": "51d6f5b6-a69d-4a8b-e359-c7c6ed34babc"
      },
      "source": [
        "# Comparison of Education and Loan Status\n",
        "\n",
        "table=pd.crosstab(loans_df['education'],loans_df['loanstatus'])\n",
        "table.div(table.sum(1).astype(float), axis=0).plot(kind='bar', figsize = (10,8), stacked=False)\n",
        "plt.title('Stacked Bar Chart of Education and Loan Status', fontsize = 16)\n",
        "plt.xlabel('Education', fontsize = 14)\n",
        "plt.ylabel('Proportion of Respondents', fontsize = 14)\n",
        "plt.xticks(rotation = 360, fontsize = 14)\n",
        "plt.yticks(fontsize = 14)\n",
        "plt.show()"
      ],
      "execution_count": null,
      "outputs": [
        {
          "output_type": "display_data",
          "data": {
            "image/png": "[encoded data removed]",
            "text/plain": [
              "<Figure size 720x576 with 1 Axes>"
            ]
          },
          "metadata": {
            "tags": []
          }
        }
      ]
    },
    {
      "cell_type": "code",
      "metadata": {
        "colab": {
          "base_uri": "https://localhost:8080/",
          "height": 523
        },
        "id": "5J65HAChDb3y",
        "outputId": "65ef7d80-3665-486a-c74f-b4b6c138e723"
      },
      "source": [
        "# Comparison of Gender and Loan Status\n",
        "\n",
        "table=pd.crosstab(loans_df['gender'],loans_df['loanstatus'])\n",
        "table.div(table.sum(1).astype(float), axis=0).plot(kind='bar',figsize = (10,8), stacked=False)\n",
        "plt.title('Bar Chart of Gender to loanstatus', fontsize = 16)\n",
        "plt.xlabel('Gender', fontsize = 14)\n",
        "plt.ylabel('Proportion of Respondents', fontsize = 14)\n",
        "plt.xticks(rotation = 360, fontsize = 14)\n",
        "plt.yticks(fontsize = 14)\n",
        "plt.show()"
      ],
      "execution_count": null,
      "outputs": [
        {
          "output_type": "display_data",
          "data": {
            "image/png": "[encoded data removed]",
            "text/plain": [
              "<Figure size 720x576 with 1 Axes>"
            ]
          },
          "metadata": {
            "tags": []
          }
        }
      ]
    },
    {
      "cell_type": "code",
      "metadata": {
        "colab": {
          "base_uri": "https://localhost:8080/",
          "height": 523
        },
        "id": "n-ItMkbVDcAR",
        "outputId": "8e279dc2-ba04-497c-e3b5-d09ff4cf8bc7"
      },
      "source": [
        "# Comparison of Marital Status and Loan Status\n",
        "\n",
        "table=pd.crosstab(loans_df['married'],loans_df['loanstatus'])\n",
        "table.div(table.sum(1).astype(float), axis=0).plot(kind='bar', figsize = (10,8), stacked=False)\n",
        "plt.title('Bar Chart of Marital Status to Loan Status', fontsize = 16)\n",
        "plt.xlabel('Marital Status',fontsize = 14)\n",
        "plt.ylabel('Proportion of Respondents', fontsize = 14)\n",
        "plt.xticks(rotation = 360, fontsize = 14)\n",
        "plt.yticks(fontsize = 14)\n",
        "plt.show()"
      ],
      "execution_count": null,
      "outputs": [
        {
          "output_type": "display_data",
          "data": {
            "image/png": "[encoded data removed]",
            "text/plain": [
              "<Figure size 720x576 with 1 Axes>"
            ]
          },
          "metadata": {
            "tags": []
          }
        }
      ]
    },
    {
      "cell_type": "code",
      "metadata": {
        "colab": {
          "base_uri": "https://localhost:8080/",
          "height": 523
        },
        "id": "VtiisBlxDzko",
        "outputId": "feabb3e8-2527-43bb-dc1d-0c81b30bab8a"
      },
      "source": [
        "# Comparison of Credit History and Loan Status\n",
        "\n",
        "table=pd.crosstab(loans_df['credithistory'],loans_df['loanstatus'])\n",
        "table.div(table.sum(1).astype(float), axis=0).plot(kind='bar', figsize = (10,8), stacked=False)\n",
        "plt.title('Bar Chart of Credit History and Loanstatus', fontsize = 16)\n",
        "plt.xlabel('Credit History', fontsize = 14)\n",
        "plt.ylabel('Proportion of Respondents', fontsize = 14)\n",
        "plt.xticks(rotation = 360, fontsize = 14)\n",
        "plt.yticks(fontsize = 14)\n",
        "plt.show()"
      ],
      "execution_count": null,
      "outputs": [
        {
          "output_type": "display_data",
          "data": {
            "image/png": "[encoded data removed]",
            "text/plain": [
              "<Figure size 720x576 with 1 Axes>"
            ]
          },
          "metadata": {
            "tags": []
          }
        }
      ]
    },
    {
      "cell_type": "code",
      "metadata": {
        "colab": {
          "base_uri": "https://localhost:8080/",
          "height": 523
        },
        "id": "587IFgvYEQAG",
        "outputId": "71fd97b2-16f9-44fa-ac77-6326ac7171d3"
      },
      "source": [
        "# Comparison of Property Area and Loan Status\n",
        "\n",
        "table=pd.crosstab(loans_df['propertyarea'],loans_df['loanstatus'])\n",
        "table.div(table.sum(1).astype(float), axis=0).plot(kind='bar', figsize = (10,8), stacked=False)\n",
        "plt.title('Bar Chart of Area and Loan Status', fontsize = 16)\n",
        "plt.xlabel('Area', fontsize = 14)\n",
        "plt.ylabel('Proportion of Respondents', fontsize = 14)\n",
        "plt.xticks(rotation = 360, fontsize = 14)\n",
        "plt.yticks(fontsize = 14)\n",
        "plt.show()"
      ],
      "execution_count": null,
      "outputs": [
        {
          "output_type": "display_data",
          "data": {
            "image/png": "[encoded data removed]",
            "text/plain": [
              "<Figure size 720x576 with 1 Axes>"
            ]
          },
          "metadata": {
            "tags": []
          }
        }
      ]
    },
    {
      "cell_type": "code",
      "metadata": {
        "colab": {
          "base_uri": "https://localhost:8080/",
          "height": 523
        },
        "id": "Pm--5eIHEunk",
        "outputId": "ff53461f-cab7-4f86-c713-550e5f2accaf"
      },
      "source": [
        "# Comparison of Dependents and Loan Status\n",
        "\n",
        "table=pd.crosstab(loans_df['dependents'],loans_df['loanstatus'])\n",
        "table.div(table.sum(1).astype(float), axis=0).plot(kind='bar', figsize = (10,8), stacked=False)\n",
        "plt.title('Bar Chart of Dependents and Loan Status', fontsize = 16)\n",
        "plt.xlabel('Dependents', fontsize = 14)\n",
        "plt.ylabel('Proportion of Respondents', fontsize = 14)\n",
        "plt.xticks(rotation = 360, fontsize = 14)\n",
        "plt.yticks(fontsize = 14)\n",
        "plt.show()"
      ],
      "execution_count": null,
      "outputs": [
        {
          "output_type": "display_data",
          "data": {
            "image/png": "[encoded data removed]",
            "text/plain": [
              "<Figure size 720x576 with 1 Axes>"
            ]
          },
          "metadata": {
            "tags": []
          }
        }
      ]
    },
    {
      "cell_type": "code",
      "metadata": {
        "colab": {
          "base_uri": "https://localhost:8080/",
          "height": 555
        },
        "id": "mxf_pdM0FSkw",
        "outputId": "f5e3ba54-8b18-43a5-d366-54dd32366090"
      },
      "source": [
        "#Scatterplot to show correlation between Applicant Income and Loan amount\n",
        "\n",
        "plt.figure(figsize= (10,8))\n",
        "sns.scatterplot(x= loans_df.applicantincome, y = loans_df.loanamount)\n",
        "plt.title('Applicant Income Vs Loan Amount', fontsize = 16)\n",
        "plt.ylabel('Loan Amount', fontsize=14)\n",
        "plt.xlabel('Applicant Income', fontsize=14)\n",
        "plt.xticks(rotation = 75, fontsize = 14)\n",
        "plt.yticks(fontsize = 14)\n",
        "plt.show()"
      ],
      "execution_count": null,
      "outputs": [
        {
          "output_type": "display_data",
          "data": {
            "image/png": "[encoded data removed]",
            "text/plain": [
              "<Figure size 720x576 with 1 Axes>"
            ]
          },
          "metadata": {
            "tags": []
          }
        }
      ]
    },
    {
      "cell_type": "code",
      "metadata": {
        "colab": {
          "base_uri": "https://localhost:8080/"
        },
        "id": "IB6bYgQsF265",
        "outputId": "570a5bc3-1d40-411c-9a40-4240f96810ab"
      },
      "source": [
        "# Correlation coefficient between applicant income and loan amount\n",
        "\n",
        "loans_df['applicantincome'].corr(loans_df['loanamount'])"
      ],
      "execution_count": null,
      "outputs": [
        {
          "output_type": "execute_result",
          "data": {
            "text/plain": [
              "0.5656204566820277"
            ]
          },
          "metadata": {
            "tags": []
          },
          "execution_count": 102
        }
      ]
    },
    {
      "cell_type": "code",
      "metadata": {
        "colab": {
          "base_uri": "https://localhost:8080/",
          "height": 555
        },
        "id": "sZaLWVvRGOGn",
        "outputId": "eaa7ff85-d13c-4fc3-d0d6-db2a59c13e93"
      },
      "source": [
        "#Scatterplot to show correlation between Co-Applicant Income and Loan amount\n",
        "\n",
        "plt.figure(figsize= (10,8))\n",
        "sns.scatterplot(x= loans_df.coapplicantincome, y = loans_df.loanamount)\n",
        "plt.title('Co-Applicant Income Vs Loan Amount', fontsize = 16)\n",
        "plt.ylabel('Loan Amount', fontsize=14)\n",
        "plt.xlabel('Co-Applicant Income', fontsize=14)\n",
        "plt.xticks(rotation = 75, fontsize = 14)\n",
        "plt.yticks(fontsize = 14)\n",
        "plt.show()"
      ],
      "execution_count": null,
      "outputs": [
        {
          "output_type": "display_data",
          "data": {
            "image/png": "[encoded data removed]",
            "text/plain": [
              "<Figure size 720x576 with 1 Axes>"
            ]
          },
          "metadata": {
            "tags": []
          }
        }
      ]
    },
    {
      "cell_type": "code",
      "metadata": {
        "colab": {
          "base_uri": "https://localhost:8080/"
        },
        "id": "RcI6Oi3zGkfm",
        "outputId": "a950d954-265f-49f5-f04b-62adab6e0e6f"
      },
      "source": [
        "# Correlation coefficient between loan amount and co-applicant income\n",
        "\n",
        "loans_df['coapplicantincome'].corr(loans_df['loanamount'])"
      ],
      "execution_count": null,
      "outputs": [
        {
          "output_type": "execute_result",
          "data": {
            "text/plain": [
              "0.18782839323334397"
            ]
          },
          "metadata": {
            "tags": []
          },
          "execution_count": 104
        }
      ]
    },
    {
      "cell_type": "code",
      "metadata": {
        "colab": {
          "base_uri": "https://localhost:8080/",
          "height": 339
        },
        "id": "Y17NkkltGrJq",
        "outputId": "8a92e189-7f7a-485f-e3d7-f8c4906bf24e"
      },
      "source": [
        "# Scatterplot between Co-applicant income and Loan amount for \n",
        "# income less that 2000\n",
        "\n",
        "loans_df[loans_df['coapplicantincome'] < 2000].sample(200).plot.scatter(x='applicantincome', y='loanamount')"
      ],
      "execution_count": null,
      "outputs": [
        {
          "output_type": "stream",
          "text": [
            "*c* argument looks like a single numeric RGB or RGBA sequence, which should be avoided as value-mapping will have precedence in case its length matches with *x* & *y*.  Please use the *color* keyword-argument or provide a 2-D array with a single row if you intend to specify the same RGB or RGBA value for all points.\n"
          ],
          "name": "stderr"
        },
        {
          "output_type": "execute_result",
          "data": {
            "text/plain": [
              "<matplotlib.axes._subplots.AxesSubplot at 0x7f6f6c3ec950>"
            ]
          },
          "metadata": {
            "tags": []
          },
          "execution_count": 111
        },
        {
          "output_type": "display_data",
          "data": {
            "image/png": "[encoded data removed]",
            "text/plain": [
              "<Figure size 432x288 with 1 Axes>"
            ]
          },
          "metadata": {
            "tags": []
          }
        }
      ]
    },
    {
      "cell_type": "code",
      "metadata": {
        "colab": {
          "base_uri": "https://localhost:8080/",
          "height": 367
        },
        "id": "zji730miIQW-",
        "outputId": "c264c11b-4c7b-474c-ce48-8703f4c74da3"
      },
      "source": [
        "# Correlation Heatmap\n",
        "\n",
        "plt.figure(figsize=(7,4)) \n",
        "sns.heatmap(loans_df.corr(),annot=True,cmap='cubehelix_r') \n",
        "plt.show()"
      ],
      "execution_count": null,
      "outputs": [
        {
          "output_type": "display_data",
          "data": {
            "image/png": "[encoded data removed]",
            "text/plain": [
              "<Figure size 504x288 with 2 Axes>"
            ]
          },
          "metadata": {
            "tags": []
          }
        }
      ]
    },
    {
      "cell_type": "markdown",
      "metadata": {
        "id": "dmHL48kwIIb7"
      },
      "source": [
        "### c) Multivariate Analysis "
      ]
    },
    {
      "cell_type": "code",
      "metadata": {
        "id": "zvpcz_P2I8aw",
        "colab": {
          "base_uri": "https://localhost:8080/",
          "height": 574
        },
        "outputId": "da476a11-0e1a-41a2-9b52-4ac205674a47"
      },
      "source": [
        "# Analysis of Loan Status, Applicant income and Loan Amount\n",
        "\n",
        "plt.figure(figsize=(10,8))\n",
        "sns.scatterplot(x= loans_df['loanamount'], y=loans_df['applicantincome'], hue= loans_df['loanstatus'])\n",
        "plt.title('Loan Amount vs Applicant Income vs Loan Status', fontsize = 16)\n",
        "plt.xlabel('Loan Amount', fontsize = 14)\n",
        "plt.ylabel('Applicant Income', fontsize = 14)\n",
        "plt.xticks(fontsize = 14)\n",
        "plt.yticks(fontsize = 14)"
      ],
      "execution_count": null,
      "outputs": [
        {
          "output_type": "execute_result",
          "data": {
            "text/plain": [
              "(array([-10000.,      0.,  10000.,  20000.,  30000.,  40000.,  50000.,\n",
              "         60000.,  70000.,  80000.,  90000.]),\n",
              " <a list of 11 Text major ticklabel objects>)"
            ]
          },
          "metadata": {
            "tags": []
          },
          "execution_count": 66
        },
        {
          "output_type": "display_data",
          "data": {
            "image/png": "[encoded data removed]",
            "text/plain": [
              "<Figure size 720x576 with 1 Axes>"
            ]
          },
          "metadata": {
            "tags": []
          }
        }
      ]
    },
    {
      "cell_type": "code",
      "metadata": {
        "colab": {
          "base_uri": "https://localhost:8080/",
          "height": 574
        },
        "id": "-HcshREYN57a",
        "outputId": "588a9710-8dfb-4b3d-ecf5-5d76bc8aec39"
      },
      "source": [
        "# Analysis of Loan Status, Applicant income and Credit History\n",
        "\n",
        "plt.figure(figsize=(10,8))\n",
        "sns.scatterplot(x= loans_df['loanamount'], y=loans_df['applicantincome'], hue= loans_df['credithistory'])\n",
        "plt.title('Loan Amount vs Applicant Income vs Credit History', fontsize = 16)\n",
        "plt.xlabel('Loan Amount', fontsize = 14)\n",
        "plt.ylabel('Applicant Income', fontsize = 14)\n",
        "plt.xticks(fontsize = 14)\n",
        "plt.yticks(fontsize = 14)"
      ],
      "execution_count": null,
      "outputs": [
        {
          "output_type": "execute_result",
          "data": {
            "text/plain": [
              "(array([-10000.,      0.,  10000.,  20000.,  30000.,  40000.,  50000.,\n",
              "         60000.,  70000.,  80000.,  90000.]),\n",
              " <a list of 11 Text major ticklabel objects>)"
            ]
          },
          "metadata": {
            "tags": []
          },
          "execution_count": 67
        },
        {
          "output_type": "display_data",
          "data": {
            "image/png": "[encoded data removed]",
            "text/plain": [
              "<Figure size 720x576 with 1 Axes>"
            ]
          },
          "metadata": {
            "tags": []
          }
        }
      ]
    },
    {
      "cell_type": "markdown",
      "metadata": {
        "id": "G29Pa1eMPl8R"
      },
      "source": [
        "## 7. Hypothesis testing"
      ]
    },
    {
      "cell_type": "markdown",
      "metadata": {
        "id": "vQzUn-LPz00J"
      },
      "source": [
        "- The Chi-square test will be used for all hypothesis tests in our analysis.\n",
        "- The level of significance to be used in all tests below will be 0.05 or 5% "
      ]
    },
    {
      "cell_type": "markdown",
      "metadata": {
        "id": "BDoFNcSMQMPb"
      },
      "source": [
        "**Hypothesis 1:**\n",
        "\n",
        "Ho : There is no relationship between credit history and the loan status\n",
        "\n",
        "Ha : There is a relationship between credit history and the loan status\n"
      ]
    },
    {
      "cell_type": "code",
      "metadata": {
        "colab": {
          "base_uri": "https://localhost:8080/",
          "height": 136
        },
        "id": "G1QAo11ePpyE",
        "outputId": "b8c2a71a-66e6-4e5a-ee95-5f9befce526d"
      },
      "source": [
        "# Creating a crosstab\n",
        "\n",
        "tab = pd.crosstab(loans_df['loanstatus'], loans_df['credithistory'])\n",
        "tab"
      ],
      "execution_count": null,
      "outputs": [
        {
          "output_type": "execute_result",
          "data": {
            "text/html": [
              "<div>\n",
              "<style scoped>\n",
              "    .dataframe tbody tr th:only-of-type {\n",
              "        vertical-align: middle;\n",
              "    }\n",
              "\n",
              "    .dataframe tbody tr th {\n",
              "        vertical-align: top;\n",
              "    }\n",
              "\n",
              "    .dataframe thead th {\n",
              "        text-align: right;\n",
              "    }\n",
              "</style>\n",
              "<table border=\"1\" class=\"dataframe\">\n",
              "  <thead>\n",
              "    <tr style=\"text-align: right;\">\n",
              "      <th>credithistory</th>\n",
              "      <th>0.0</th>\n",
              "      <th>1.0</th>\n",
              "    </tr>\n",
              "    <tr>\n",
              "      <th>loanstatus</th>\n",
              "      <th></th>\n",
              "      <th></th>\n",
              "    </tr>\n",
              "  </thead>\n",
              "  <tbody>\n",
              "    <tr>\n",
              "      <th>N</th>\n",
              "      <td>95</td>\n",
              "      <td>97</td>\n",
              "    </tr>\n",
              "    <tr>\n",
              "      <th>Y</th>\n",
              "      <td>44</td>\n",
              "      <td>378</td>\n",
              "    </tr>\n",
              "  </tbody>\n",
              "</table>\n",
              "</div>"
            ],
            "text/plain": [
              "credithistory  0.0  1.0\n",
              "loanstatus             \n",
              "N               95   97\n",
              "Y               44  378"
            ]
          },
          "metadata": {
            "tags": []
          },
          "execution_count": 68
        }
      ]
    },
    {
      "cell_type": "code",
      "metadata": {
        "colab": {
          "base_uri": "https://localhost:8080/"
        },
        "id": "7MBw82NeQ_h0",
        "outputId": "49758c1f-db8f-4efd-8d81-837d1c93c9b7"
      },
      "source": [
        "# Obtaining the observed values\n",
        "\n",
        "observed_values = tab.values\n",
        "print('Observed values: -\\n', observed_values)"
      ],
      "execution_count": null,
      "outputs": [
        {
          "output_type": "stream",
          "text": [
            "Observed values: -\n",
            " [[ 95  97]\n",
            " [ 44 378]]\n"
          ],
          "name": "stdout"
        }
      ]
    },
    {
      "cell_type": "code",
      "metadata": {
        "colab": {
          "base_uri": "https://localhost:8080/"
        },
        "id": "WTpJ9tGGRCUB",
        "outputId": "5d3c8a7c-00a2-45d7-e806-fe40a00bf86f"
      },
      "source": [
        "# Creating the chi square contingency table\n",
        "\n",
        "val = stats.chi2_contingency(tab)\n",
        "val"
      ],
      "execution_count": null,
      "outputs": [
        {
          "output_type": "execute_result",
          "data": {
            "text/plain": [
              "(112.69526773505117,\n",
              " 2.5162224058605992e-26,\n",
              " 1,\n",
              " array([[ 43.46579805, 148.53420195],\n",
              "        [ 95.53420195, 326.46579805]]))"
            ]
          },
          "metadata": {
            "tags": []
          },
          "execution_count": 70
        }
      ]
    },
    {
      "cell_type": "code",
      "metadata": {
        "colab": {
          "base_uri": "https://localhost:8080/"
        },
        "id": "Z4BFw-DoRE2U",
        "outputId": "9e543747-7e8a-464c-80b3-a9e946644f90"
      },
      "source": [
        "# Obtaining the expected values\n",
        "\n",
        "expected_values = val[3]\n",
        "expected_values"
      ],
      "execution_count": null,
      "outputs": [
        {
          "output_type": "execute_result",
          "data": {
            "text/plain": [
              "array([[ 43.46579805, 148.53420195],\n",
              "       [ 95.53420195, 326.46579805]])"
            ]
          },
          "metadata": {
            "tags": []
          },
          "execution_count": 73
        }
      ]
    },
    {
      "cell_type": "code",
      "metadata": {
        "colab": {
          "base_uri": "https://localhost:8080/"
        },
        "id": "LUq9DalaRE5R",
        "outputId": "391076c3-4f70-4fb3-dfd4-09327afbc27c"
      },
      "source": [
        "# Obtaining the degrees of freedom\n",
        "\n",
        "rows = len(tab.iloc[0:2, 0])\n",
        "columns = len(tab.iloc[0, 0:2])\n",
        "dof = (rows-1)*(columns-1)\n",
        "print('Degrees of Freedom', dof)"
      ],
      "execution_count": null,
      "outputs": [
        {
          "output_type": "stream",
          "text": [
            "Degrees of Freedom 1\n"
          ],
          "name": "stdout"
        }
      ]
    },
    {
      "cell_type": "code",
      "metadata": {
        "colab": {
          "base_uri": "https://localhost:8080/"
        },
        "id": "ZKOmk9w4RE-G",
        "outputId": "99cc7918-735c-45f4-bbf1-4f389627500c"
      },
      "source": [
        "# Obtaining the chi-square statistic\n",
        "\n",
        "chi_square =sum([(o-e)**2./e for o,e in zip(observed_values,expected_values)])\n",
        "chi_square\n",
        "chi_square_statistic = chi_square[0]+chi_square[1]\n",
        "chi_square_statistic"
      ],
      "execution_count": null,
      "outputs": [
        {
          "output_type": "execute_result",
          "data": {
            "text/plain": [
              "114.91431537284515"
            ]
          },
          "metadata": {
            "tags": []
          },
          "execution_count": 75
        }
      ]
    },
    {
      "cell_type": "code",
      "metadata": {
        "colab": {
          "base_uri": "https://localhost:8080/"
        },
        "id": "RA3vkvBARFAC",
        "outputId": "977b0f61-5901-4535-d3c0-a42c27972f09"
      },
      "source": [
        "# Getting the critical value\n",
        "alpha = 0.05\n",
        "critical_value = stats.chi2.ppf(q = 1-alpha, df = dof)\n",
        "\n",
        "print('Critical Value:', critical_value)"
      ],
      "execution_count": null,
      "outputs": [
        {
          "output_type": "stream",
          "text": [
            "Critical Value: 3.841458820694124\n"
          ],
          "name": "stdout"
        }
      ]
    },
    {
      "cell_type": "code",
      "metadata": {
        "colab": {
          "base_uri": "https://localhost:8080/"
        },
        "id": "y0FRtdamRNJE",
        "outputId": "0752140d-3f14-4730-840c-56b7f2f47664"
      },
      "source": [
        "# Getting p value\n",
        "\n",
        "p_value = 1 - stats.chi2.cdf(x = chi_square_statistic, df= dof)\n",
        "p_value\n",
        "\n"
      ],
      "execution_count": null,
      "outputs": [
        {
          "output_type": "execute_result",
          "data": {
            "text/plain": [
              "0.0"
            ]
          },
          "metadata": {
            "tags": []
          },
          "execution_count": 77
        }
      ]
    },
    {
      "cell_type": "code",
      "metadata": {
        "colab": {
          "base_uri": "https://localhost:8080/"
        },
        "id": "vYyTJdy81z1y",
        "outputId": "66aa6a64-6a78-42bc-adcd-885846cef26e"
      },
      "source": [
        "# Conclusion\n",
        "\n",
        "if chi_square_statistic>=critical_value:\n",
        "  print('Reject Null Hypothesis')\n",
        "else:\n",
        "  print('Do not Reject Null Hypothesis')"
      ],
      "execution_count": null,
      "outputs": [
        {
          "output_type": "stream",
          "text": [
            "Reject Null Hypothesis\n"
          ],
          "name": "stdout"
        }
      ]
    },
    {
      "cell_type": "markdown",
      "metadata": {
        "id": "Kw0yMQojTB7w"
      },
      "source": [
        "The chi-square statistic is greater than the critical value hence we reject the null hypothesis that there is no relationship between credit history and loan status\n",
        "\n",
        "At 5% level of significance, there is enough evidence to conclude that there is a relationship between credit history and loan status"
      ]
    },
    {
      "cell_type": "markdown",
      "metadata": {
        "id": "0ki85OQsUS9n"
      },
      "source": [
        "**Hypothesis 2 :**\n",
        "\n",
        "Ho : There is no relationship between  area and the loan status\n",
        "\n",
        "Ha : There is a relationship between area  and the loan status"
      ]
    },
    {
      "cell_type": "code",
      "metadata": {
        "colab": {
          "base_uri": "https://localhost:8080/",
          "height": 136
        },
        "id": "uEoLZSBERNMS",
        "outputId": "75140250-7e3e-4c75-d93a-9412c1528f20"
      },
      "source": [
        "# Creating a crosstab\n",
        "\n",
        "tab = pd.crosstab(loans_df['loanstatus'], loans_df['propertyarea'])\n",
        "tab"
      ],
      "execution_count": null,
      "outputs": [
        {
          "output_type": "execute_result",
          "data": {
            "text/html": [
              "<div>\n",
              "<style scoped>\n",
              "    .dataframe tbody tr th:only-of-type {\n",
              "        vertical-align: middle;\n",
              "    }\n",
              "\n",
              "    .dataframe tbody tr th {\n",
              "        vertical-align: top;\n",
              "    }\n",
              "\n",
              "    .dataframe thead th {\n",
              "        text-align: right;\n",
              "    }\n",
              "</style>\n",
              "<table border=\"1\" class=\"dataframe\">\n",
              "  <thead>\n",
              "    <tr style=\"text-align: right;\">\n",
              "      <th>propertyarea</th>\n",
              "      <th>Rural</th>\n",
              "      <th>Semiurban</th>\n",
              "      <th>Urban</th>\n",
              "    </tr>\n",
              "    <tr>\n",
              "      <th>loanstatus</th>\n",
              "      <th></th>\n",
              "      <th></th>\n",
              "      <th></th>\n",
              "    </tr>\n",
              "  </thead>\n",
              "  <tbody>\n",
              "    <tr>\n",
              "      <th>N</th>\n",
              "      <td>69</td>\n",
              "      <td>54</td>\n",
              "      <td>69</td>\n",
              "    </tr>\n",
              "    <tr>\n",
              "      <th>Y</th>\n",
              "      <td>110</td>\n",
              "      <td>179</td>\n",
              "      <td>133</td>\n",
              "    </tr>\n",
              "  </tbody>\n",
              "</table>\n",
              "</div>"
            ],
            "text/plain": [
              "propertyarea  Rural  Semiurban  Urban\n",
              "loanstatus                           \n",
              "N                69         54     69\n",
              "Y               110        179    133"
            ]
          },
          "metadata": {
            "tags": []
          },
          "execution_count": 82
        }
      ]
    },
    {
      "cell_type": "code",
      "metadata": {
        "colab": {
          "base_uri": "https://localhost:8080/"
        },
        "id": "pnfKiNi7RNSU",
        "outputId": "593696ed-036c-4025-ead6-ddc0f685a673"
      },
      "source": [
        "# Obtaining the observed values\n",
        "\n",
        "observed_values = tab.values\n",
        "print('Observed values: -\\n', observed_values)"
      ],
      "execution_count": null,
      "outputs": [
        {
          "output_type": "stream",
          "text": [
            "Observed values: -\n",
            " [[ 69  54  69]\n",
            " [110 179 133]]\n"
          ],
          "name": "stdout"
        }
      ]
    },
    {
      "cell_type": "code",
      "metadata": {
        "colab": {
          "base_uri": "https://localhost:8080/"
        },
        "id": "6LdQHjoHRNUm",
        "outputId": "c191aa41-3a8a-4a85-943c-347fde7df705"
      },
      "source": [
        "# Creating the chi square contingency table\n",
        "\n",
        "val = stats.chi2_contingency(tab)\n",
        "val"
      ],
      "execution_count": null,
      "outputs": [
        {
          "output_type": "execute_result",
          "data": {
            "text/plain": [
              "(12.297623130485677,\n",
              " 0.0021360187811644915,\n",
              " 2,\n",
              " array([[ 55.97394137,  72.85993485,  63.16612378],\n",
              "        [123.02605863, 160.14006515, 138.83387622]]))"
            ]
          },
          "metadata": {
            "tags": []
          },
          "execution_count": 84
        }
      ]
    },
    {
      "cell_type": "code",
      "metadata": {
        "colab": {
          "base_uri": "https://localhost:8080/"
        },
        "id": "K1Y_TPHrUz42",
        "outputId": "e43a9175-b069-4b4a-bf2e-73c3d95d92d4"
      },
      "source": [
        "# Obtaining the expected values\n",
        "\n",
        "expected_values = val[3]\n",
        "expected_values"
      ],
      "execution_count": null,
      "outputs": [
        {
          "output_type": "execute_result",
          "data": {
            "text/plain": [
              "array([[ 55.97394137,  72.85993485,  63.16612378],\n",
              "       [123.02605863, 160.14006515, 138.83387622]])"
            ]
          },
          "metadata": {
            "tags": []
          },
          "execution_count": 85
        }
      ]
    },
    {
      "cell_type": "code",
      "metadata": {
        "colab": {
          "base_uri": "https://localhost:8080/"
        },
        "id": "onzieelbUz7b",
        "outputId": "c092ba0b-a91a-43a2-b0c5-09917fa321f4"
      },
      "source": [
        "# Obtaining the degrees of freedom\n",
        "\n",
        "rows = len(tab.iloc[0:2, 0])\n",
        "columns = len(tab.iloc[0, 0:2])\n",
        "dof = (rows-1)*(columns-1)\n",
        "print('Degrees of Freedom', dof)"
      ],
      "execution_count": null,
      "outputs": [
        {
          "output_type": "stream",
          "text": [
            "Degrees of Freedom 1\n"
          ],
          "name": "stdout"
        }
      ]
    },
    {
      "cell_type": "code",
      "metadata": {
        "colab": {
          "base_uri": "https://localhost:8080/"
        },
        "id": "8eej9JXEUz90",
        "outputId": "13dc3a7b-143b-4931-a016-afacb8ef9eaa"
      },
      "source": [
        "# Obtaining the chi-square statistic\n",
        "\n",
        "chi_square =sum([(o-e)**2./e for o,e in zip(observed_values,expected_values)])\n",
        "chi_square\n",
        "chi_square_statistic = chi_square[0]+chi_square[1]\n",
        "chi_square_statistic"
      ],
      "execution_count": null,
      "outputs": [
        {
          "output_type": "execute_result",
          "data": {
            "text/plain": [
              "11.513677192941685"
            ]
          },
          "metadata": {
            "tags": []
          },
          "execution_count": 87
        }
      ]
    },
    {
      "cell_type": "code",
      "metadata": {
        "colab": {
          "base_uri": "https://localhost:8080/"
        },
        "id": "7fdMyK8JU0Dm",
        "outputId": "955e72b0-e4f0-45b7-f18e-ab63b107abee"
      },
      "source": [
        "# Getting the critical value\n",
        "alpha = 0.05\n",
        "critical_value = stats.chi2.ppf(q = 1-alpha, df = dof)\n",
        "\n",
        "print('Critical Value:', critical_value)"
      ],
      "execution_count": null,
      "outputs": [
        {
          "output_type": "stream",
          "text": [
            "Critical Value: 3.841458820694124\n"
          ],
          "name": "stdout"
        }
      ]
    },
    {
      "cell_type": "code",
      "metadata": {
        "colab": {
          "base_uri": "https://localhost:8080/"
        },
        "id": "Zw-mjmluU0Ka",
        "outputId": "d4b56e4a-a63e-43cf-f8d5-5de5e60be44b"
      },
      "source": [
        "# Getting p value\n",
        "\n",
        "p_value = 1 - stats.chi2.cdf(x = chi_square_statistic, df= dof)\n",
        "p_value"
      ],
      "execution_count": null,
      "outputs": [
        {
          "output_type": "execute_result",
          "data": {
            "text/plain": [
              "0.0006908597661283711"
            ]
          },
          "metadata": {
            "tags": []
          },
          "execution_count": 89
        }
      ]
    },
    {
      "cell_type": "code",
      "metadata": {
        "colab": {
          "base_uri": "https://localhost:8080/"
        },
        "id": "fARvZx9H5f7L",
        "outputId": "8a20b7eb-c4e7-46ff-8892-ad64dd377306"
      },
      "source": [
        "# Conclusion\n",
        "\n",
        "if chi_square_statistic>=critical_value:\n",
        "  print('Reject Null Hypothesis')\n",
        "else:\n",
        "  print('Do not Reject Null Hypothesis')"
      ],
      "execution_count": null,
      "outputs": [
        {
          "output_type": "stream",
          "text": [
            "Reject Null Hypothesis\n"
          ],
          "name": "stdout"
        }
      ]
    },
    {
      "cell_type": "markdown",
      "metadata": {
        "id": "MPDYoDETVGM3"
      },
      "source": [
        "The chi-square statistic is greater than the critical value hence we reject the null hypothesis that there is no relationship between area and loan status\n",
        "\n",
        "At 5% level of significance, there is enough evidence to conclude that there is a relationship between area and loan status"
      ]
    },
    {
      "cell_type": "markdown",
      "metadata": {
        "id": "JRAQccqD5oqY"
      },
      "source": [
        "**Hypothesis 3 :**\n",
        "\n",
        "Ho : There is no relationship between gender and the loan status\n",
        "\n",
        "Ha : There is a relationship between gender and the loan status"
      ]
    },
    {
      "cell_type": "code",
      "metadata": {
        "id": "IRqEkuumVVdb",
        "colab": {
          "base_uri": "https://localhost:8080/",
          "height": 136
        },
        "outputId": "ec46940e-da51-4b71-c297-9e7ca34cbaba"
      },
      "source": [
        "# Creating a crosstab\n",
        "\n",
        "tab = pd.crosstab(loans_df['loanstatus'], loans_df['gender'])\n",
        "tab"
      ],
      "execution_count": null,
      "outputs": [
        {
          "output_type": "execute_result",
          "data": {
            "text/html": [
              "<div>\n",
              "<style scoped>\n",
              "    .dataframe tbody tr th:only-of-type {\n",
              "        vertical-align: middle;\n",
              "    }\n",
              "\n",
              "    .dataframe tbody tr th {\n",
              "        vertical-align: top;\n",
              "    }\n",
              "\n",
              "    .dataframe thead th {\n",
              "        text-align: right;\n",
              "    }\n",
              "</style>\n",
              "<table border=\"1\" class=\"dataframe\">\n",
              "  <thead>\n",
              "    <tr style=\"text-align: right;\">\n",
              "      <th>gender</th>\n",
              "      <th>Female</th>\n",
              "      <th>Male</th>\n",
              "    </tr>\n",
              "    <tr>\n",
              "      <th>loanstatus</th>\n",
              "      <th></th>\n",
              "      <th></th>\n",
              "    </tr>\n",
              "  </thead>\n",
              "  <tbody>\n",
              "    <tr>\n",
              "      <th>N</th>\n",
              "      <td>37</td>\n",
              "      <td>155</td>\n",
              "    </tr>\n",
              "    <tr>\n",
              "      <th>Y</th>\n",
              "      <td>75</td>\n",
              "      <td>347</td>\n",
              "    </tr>\n",
              "  </tbody>\n",
              "</table>\n",
              "</div>"
            ],
            "text/plain": [
              "gender      Female  Male\n",
              "loanstatus              \n",
              "N               37   155\n",
              "Y               75   347"
            ]
          },
          "metadata": {
            "tags": []
          },
          "execution_count": 91
        }
      ]
    },
    {
      "cell_type": "code",
      "metadata": {
        "colab": {
          "base_uri": "https://localhost:8080/"
        },
        "id": "8PqHWAOz6XMx",
        "outputId": "1e8d529f-0747-42fd-866e-91c8c8837a68"
      },
      "source": [
        "# Obtaining the observed values\n",
        "\n",
        "observed_values = tab.values\n",
        "print('Observed values: -\\n', observed_values)"
      ],
      "execution_count": null,
      "outputs": [
        {
          "output_type": "stream",
          "text": [
            "Observed values: -\n",
            " [[ 37 155]\n",
            " [ 75 347]]\n"
          ],
          "name": "stdout"
        }
      ]
    },
    {
      "cell_type": "code",
      "metadata": {
        "colab": {
          "base_uri": "https://localhost:8080/"
        },
        "id": "fo9N6Y5o6XId",
        "outputId": "9caa4fb7-0fe0-4e15-e05a-27d94b1ca4c3"
      },
      "source": [
        "# Creating the chi square contingency table\n",
        "\n",
        "val = stats.chi2_contingency(tab)\n",
        "val"
      ],
      "execution_count": null,
      "outputs": [
        {
          "output_type": "execute_result",
          "data": {
            "text/plain": [
              "(0.11087854691241235, 0.7391461310869638, 1, array([[ 35.0228013, 156.9771987],\n",
              "        [ 76.9771987, 345.0228013]]))"
            ]
          },
          "metadata": {
            "tags": []
          },
          "execution_count": 93
        }
      ]
    },
    {
      "cell_type": "code",
      "metadata": {
        "colab": {
          "base_uri": "https://localhost:8080/"
        },
        "id": "Wy_sgJG_6XFX",
        "outputId": "98fcb39a-d76f-4a4a-8cb0-f4369ec7a2b0"
      },
      "source": [
        "# Obtaining the expected values\n",
        "\n",
        "expected_values = val[3]\n",
        "expected_values"
      ],
      "execution_count": null,
      "outputs": [
        {
          "output_type": "execute_result",
          "data": {
            "text/plain": [
              "array([[ 35.0228013, 156.9771987],\n",
              "       [ 76.9771987, 345.0228013]])"
            ]
          },
          "metadata": {
            "tags": []
          },
          "execution_count": 94
        }
      ]
    },
    {
      "cell_type": "code",
      "metadata": {
        "colab": {
          "base_uri": "https://localhost:8080/"
        },
        "id": "ZqXiMoOg6XDm",
        "outputId": "078fd32f-3e05-40c8-87a2-39b430db3c6f"
      },
      "source": [
        "# Obtaining the degrees of freedom\n",
        "\n",
        "rows = len(tab.iloc[0:2, 0])\n",
        "columns = len(tab.iloc[0, 0:2])\n",
        "dof = (rows-1)*(columns-1)\n",
        "print('Degrees of Freedom', dof)"
      ],
      "execution_count": null,
      "outputs": [
        {
          "output_type": "stream",
          "text": [
            "Degrees of Freedom 1\n"
          ],
          "name": "stdout"
        }
      ]
    },
    {
      "cell_type": "code",
      "metadata": {
        "colab": {
          "base_uri": "https://localhost:8080/"
        },
        "id": "cAxw642R6W_c",
        "outputId": "84985f2f-57b0-4d4d-b901-1df2ffb29404"
      },
      "source": [
        "# Obtaining the chi-square statistic\n",
        "\n",
        "chi_square =sum([(o-e)**2./e for o,e in zip(observed_values,expected_values)])\n",
        "chi_square\n",
        "chi_square_statistic = chi_square[0]+chi_square[1]\n",
        "chi_square_statistic"
      ],
      "execution_count": null,
      "outputs": [
        {
          "output_type": "execute_result",
          "data": {
            "text/plain": [
              "0.19864165509874285"
            ]
          },
          "metadata": {
            "tags": []
          },
          "execution_count": 96
        }
      ]
    },
    {
      "cell_type": "code",
      "metadata": {
        "colab": {
          "base_uri": "https://localhost:8080/"
        },
        "id": "GhGDemyE64dN",
        "outputId": "6381c72d-6883-4a6f-c83c-73575a7aeb7c"
      },
      "source": [
        "# Getting the critical value\n",
        "alpha = 0.05\n",
        "critical_value = stats.chi2.ppf(q = 1-alpha, df = dof)\n",
        "\n",
        "print('Critical Value:', critical_value)"
      ],
      "execution_count": null,
      "outputs": [
        {
          "output_type": "stream",
          "text": [
            "Critical Value: 3.841458820694124\n"
          ],
          "name": "stdout"
        }
      ]
    },
    {
      "cell_type": "code",
      "metadata": {
        "colab": {
          "base_uri": "https://localhost:8080/"
        },
        "id": "y_aCJP3d64TI",
        "outputId": "e0c23172-7749-4e20-c5d7-bad8507e33c0"
      },
      "source": [
        "# Getting p value\n",
        "\n",
        "p_value = 1 - stats.chi2.cdf(x = chi_square_statistic, df= dof)\n",
        "p_value"
      ],
      "execution_count": null,
      "outputs": [
        {
          "output_type": "execute_result",
          "data": {
            "text/plain": [
              "0.6558195040543224"
            ]
          },
          "metadata": {
            "tags": []
          },
          "execution_count": 98
        }
      ]
    },
    {
      "cell_type": "code",
      "metadata": {
        "colab": {
          "base_uri": "https://localhost:8080/"
        },
        "id": "Gp9aOy-N64H-",
        "outputId": "10235a22-ffcd-4dcb-cf25-8c69b29b37fd"
      },
      "source": [
        "# Conclusion\n",
        "\n",
        "if chi_square_statistic>=critical_value:\n",
        "  print('Reject Null Hypothesis')\n",
        "else:\n",
        "  print('Do not Reject Null Hypothesis')"
      ],
      "execution_count": null,
      "outputs": [
        {
          "output_type": "stream",
          "text": [
            "Do not Reject Null Hypothesis\n"
          ],
          "name": "stdout"
        }
      ]
    },
    {
      "cell_type": "markdown",
      "metadata": {
        "id": "d_F_N6Go7Vgc"
      },
      "source": [
        "The chi-square statistic is less than the critical value hence we do not reject the null hypothesis that there is no relationship between gender and loan status\n",
        "\n",
        "At 5% level of significance, there is not enough evidence to conclude that there is a relationship between gender and loan status"
      ]
    },
    {
      "cell_type": "markdown",
      "metadata": {
        "id": "xjVqBPvYXMwC"
      },
      "source": [
        "## 8. Dimensionality reduction"
      ]
    },
    {
      "cell_type": "code",
      "metadata": {
        "id": "Mrd3NLoOZMeP"
      },
      "source": [
        "# PCA analysis with One Hot Encoding\n",
        "\n",
        "dummy_Gender = pd.get_dummies(loans_df['gender'], prefix = 'Gender')\n",
        "dummy_Married = pd.get_dummies(loans_df['married'], prefix = \"Married\")\n",
        "dummy_Education = pd.get_dummies(loans_df['education'], prefix = \"Education\")\n",
        "dummy_Self_Employed = pd.get_dummies(loans_df['selfemployed'], prefix = \"Selfemployed\")\n",
        "dummy_Property_Area = pd.get_dummies(loans_df['propertyarea'], prefix = \"Property\")\n",
        "dummy_Dependents = pd.get_dummies(loans_df['dependents'], prefix = \"Dependents\")\n",
        "dummy_Loan_status = pd.get_dummies(loans_df['loanstatus'], prefix = \"Approve\")"
      ],
      "execution_count": null,
      "outputs": []
    },
    {
      "cell_type": "code",
      "metadata": {
        "id": "WGQlhW03ZMhm"
      },
      "source": [
        "# Creating a list of our dummy data\n",
        "\n",
        "frames = [loans_df,dummy_Gender,dummy_Married,dummy_Education,dummy_Self_Employed,dummy_Property_Area,dummy_Dependents,dummy_Loan_status]"
      ],
      "execution_count": null,
      "outputs": []
    },
    {
      "cell_type": "code",
      "metadata": {
        "id": "R1iBTeRWZMoG"
      },
      "source": [
        "# Combining the dummy data with our dataframe\n",
        "\n",
        "df_train = pd.concat(frames, axis = 1)"
      ],
      "execution_count": null,
      "outputs": []
    },
    {
      "cell_type": "code",
      "metadata": {
        "colab": {
          "base_uri": "https://localhost:8080/",
          "height": 414
        },
        "id": "vFhhzUV3ajAj",
        "outputId": "28d26684-a0d7-4313-8d8a-89e6ae5fafba"
      },
      "source": [
        "# Previewing our training dataset\n",
        "\n",
        "df_train.head(10)"
      ],
      "execution_count": null,
      "outputs": [
        {
          "output_type": "execute_result",
          "data": {
            "text/html": [
              "<div>\n",
              "<style scoped>\n",
              "    .dataframe tbody tr th:only-of-type {\n",
              "        vertical-align: middle;\n",
              "    }\n",
              "\n",
              "    .dataframe tbody tr th {\n",
              "        vertical-align: top;\n",
              "    }\n",
              "\n",
              "    .dataframe thead th {\n",
              "        text-align: right;\n",
              "    }\n",
              "</style>\n",
              "<table border=\"1\" class=\"dataframe\">\n",
              "  <thead>\n",
              "    <tr style=\"text-align: right;\">\n",
              "      <th></th>\n",
              "      <th>loanid</th>\n",
              "      <th>gender</th>\n",
              "      <th>married</th>\n",
              "      <th>dependents</th>\n",
              "      <th>education</th>\n",
              "      <th>selfemployed</th>\n",
              "      <th>applicantincome</th>\n",
              "      <th>coapplicantincome</th>\n",
              "      <th>loanamount</th>\n",
              "      <th>loanamountterm</th>\n",
              "      <th>credithistory</th>\n",
              "      <th>propertyarea</th>\n",
              "      <th>loanstatus</th>\n",
              "      <th>Gender_Female</th>\n",
              "      <th>Gender_Male</th>\n",
              "      <th>Married_No</th>\n",
              "      <th>Married_Yes</th>\n",
              "      <th>Education_Graduate</th>\n",
              "      <th>Education_Not Graduate</th>\n",
              "      <th>Selfemployed_No</th>\n",
              "      <th>Selfemployed_Yes</th>\n",
              "      <th>Property_Rural</th>\n",
              "      <th>Property_Semiurban</th>\n",
              "      <th>Property_Urban</th>\n",
              "      <th>Dependents_0</th>\n",
              "      <th>Dependents_1</th>\n",
              "      <th>Dependents_2</th>\n",
              "      <th>Dependents_3+</th>\n",
              "      <th>Approve_N</th>\n",
              "      <th>Approve_Y</th>\n",
              "    </tr>\n",
              "  </thead>\n",
              "  <tbody>\n",
              "    <tr>\n",
              "      <th>0</th>\n",
              "      <td>LP001002</td>\n",
              "      <td>Male</td>\n",
              "      <td>No</td>\n",
              "      <td>0</td>\n",
              "      <td>Graduate</td>\n",
              "      <td>No</td>\n",
              "      <td>5849</td>\n",
              "      <td>0.0</td>\n",
              "      <td>146.412162</td>\n",
              "      <td>360.0</td>\n",
              "      <td>1.0</td>\n",
              "      <td>Urban</td>\n",
              "      <td>Y</td>\n",
              "      <td>0</td>\n",
              "      <td>1</td>\n",
              "      <td>1</td>\n",
              "      <td>0</td>\n",
              "      <td>1</td>\n",
              "      <td>0</td>\n",
              "      <td>1</td>\n",
              "      <td>0</td>\n",
              "      <td>0</td>\n",
              "      <td>0</td>\n",
              "      <td>1</td>\n",
              "      <td>1</td>\n",
              "      <td>0</td>\n",
              "      <td>0</td>\n",
              "      <td>0</td>\n",
              "      <td>0</td>\n",
              "      <td>1</td>\n",
              "    </tr>\n",
              "    <tr>\n",
              "      <th>1</th>\n",
              "      <td>LP001003</td>\n",
              "      <td>Male</td>\n",
              "      <td>Yes</td>\n",
              "      <td>1</td>\n",
              "      <td>Graduate</td>\n",
              "      <td>No</td>\n",
              "      <td>4583</td>\n",
              "      <td>1508.0</td>\n",
              "      <td>128.000000</td>\n",
              "      <td>360.0</td>\n",
              "      <td>1.0</td>\n",
              "      <td>Rural</td>\n",
              "      <td>N</td>\n",
              "      <td>0</td>\n",
              "      <td>1</td>\n",
              "      <td>0</td>\n",
              "      <td>1</td>\n",
              "      <td>1</td>\n",
              "      <td>0</td>\n",
              "      <td>1</td>\n",
              "      <td>0</td>\n",
              "      <td>1</td>\n",
              "      <td>0</td>\n",
              "      <td>0</td>\n",
              "      <td>0</td>\n",
              "      <td>1</td>\n",
              "      <td>0</td>\n",
              "      <td>0</td>\n",
              "      <td>1</td>\n",
              "      <td>0</td>\n",
              "    </tr>\n",
              "    <tr>\n",
              "      <th>2</th>\n",
              "      <td>LP001005</td>\n",
              "      <td>Male</td>\n",
              "      <td>Yes</td>\n",
              "      <td>0</td>\n",
              "      <td>Graduate</td>\n",
              "      <td>Yes</td>\n",
              "      <td>3000</td>\n",
              "      <td>0.0</td>\n",
              "      <td>66.000000</td>\n",
              "      <td>360.0</td>\n",
              "      <td>1.0</td>\n",
              "      <td>Urban</td>\n",
              "      <td>Y</td>\n",
              "      <td>0</td>\n",
              "      <td>1</td>\n",
              "      <td>0</td>\n",
              "      <td>1</td>\n",
              "      <td>1</td>\n",
              "      <td>0</td>\n",
              "      <td>0</td>\n",
              "      <td>1</td>\n",
              "      <td>0</td>\n",
              "      <td>0</td>\n",
              "      <td>1</td>\n",
              "      <td>1</td>\n",
              "      <td>0</td>\n",
              "      <td>0</td>\n",
              "      <td>0</td>\n",
              "      <td>0</td>\n",
              "      <td>1</td>\n",
              "    </tr>\n",
              "    <tr>\n",
              "      <th>3</th>\n",
              "      <td>LP001006</td>\n",
              "      <td>Male</td>\n",
              "      <td>Yes</td>\n",
              "      <td>0</td>\n",
              "      <td>Not Graduate</td>\n",
              "      <td>No</td>\n",
              "      <td>2583</td>\n",
              "      <td>2358.0</td>\n",
              "      <td>120.000000</td>\n",
              "      <td>360.0</td>\n",
              "      <td>1.0</td>\n",
              "      <td>Urban</td>\n",
              "      <td>Y</td>\n",
              "      <td>0</td>\n",
              "      <td>1</td>\n",
              "      <td>0</td>\n",
              "      <td>1</td>\n",
              "      <td>0</td>\n",
              "      <td>1</td>\n",
              "      <td>1</td>\n",
              "      <td>0</td>\n",
              "      <td>0</td>\n",
              "      <td>0</td>\n",
              "      <td>1</td>\n",
              "      <td>1</td>\n",
              "      <td>0</td>\n",
              "      <td>0</td>\n",
              "      <td>0</td>\n",
              "      <td>0</td>\n",
              "      <td>1</td>\n",
              "    </tr>\n",
              "    <tr>\n",
              "      <th>4</th>\n",
              "      <td>LP001008</td>\n",
              "      <td>Male</td>\n",
              "      <td>No</td>\n",
              "      <td>0</td>\n",
              "      <td>Graduate</td>\n",
              "      <td>No</td>\n",
              "      <td>6000</td>\n",
              "      <td>0.0</td>\n",
              "      <td>141.000000</td>\n",
              "      <td>360.0</td>\n",
              "      <td>1.0</td>\n",
              "      <td>Urban</td>\n",
              "      <td>Y</td>\n",
              "      <td>0</td>\n",
              "      <td>1</td>\n",
              "      <td>1</td>\n",
              "      <td>0</td>\n",
              "      <td>1</td>\n",
              "      <td>0</td>\n",
              "      <td>1</td>\n",
              "      <td>0</td>\n",
              "      <td>0</td>\n",
              "      <td>0</td>\n",
              "      <td>1</td>\n",
              "      <td>1</td>\n",
              "      <td>0</td>\n",
              "      <td>0</td>\n",
              "      <td>0</td>\n",
              "      <td>0</td>\n",
              "      <td>1</td>\n",
              "    </tr>\n",
              "    <tr>\n",
              "      <th>5</th>\n",
              "      <td>LP001011</td>\n",
              "      <td>Male</td>\n",
              "      <td>Yes</td>\n",
              "      <td>2</td>\n",
              "      <td>Graduate</td>\n",
              "      <td>Yes</td>\n",
              "      <td>5417</td>\n",
              "      <td>4196.0</td>\n",
              "      <td>267.000000</td>\n",
              "      <td>360.0</td>\n",
              "      <td>1.0</td>\n",
              "      <td>Urban</td>\n",
              "      <td>Y</td>\n",
              "      <td>0</td>\n",
              "      <td>1</td>\n",
              "      <td>0</td>\n",
              "      <td>1</td>\n",
              "      <td>1</td>\n",
              "      <td>0</td>\n",
              "      <td>0</td>\n",
              "      <td>1</td>\n",
              "      <td>0</td>\n",
              "      <td>0</td>\n",
              "      <td>1</td>\n",
              "      <td>0</td>\n",
              "      <td>0</td>\n",
              "      <td>1</td>\n",
              "      <td>0</td>\n",
              "      <td>0</td>\n",
              "      <td>1</td>\n",
              "    </tr>\n",
              "    <tr>\n",
              "      <th>6</th>\n",
              "      <td>LP001013</td>\n",
              "      <td>Male</td>\n",
              "      <td>Yes</td>\n",
              "      <td>0</td>\n",
              "      <td>Not Graduate</td>\n",
              "      <td>No</td>\n",
              "      <td>2333</td>\n",
              "      <td>1516.0</td>\n",
              "      <td>95.000000</td>\n",
              "      <td>360.0</td>\n",
              "      <td>1.0</td>\n",
              "      <td>Urban</td>\n",
              "      <td>Y</td>\n",
              "      <td>0</td>\n",
              "      <td>1</td>\n",
              "      <td>0</td>\n",
              "      <td>1</td>\n",
              "      <td>0</td>\n",
              "      <td>1</td>\n",
              "      <td>1</td>\n",
              "      <td>0</td>\n",
              "      <td>0</td>\n",
              "      <td>0</td>\n",
              "      <td>1</td>\n",
              "      <td>1</td>\n",
              "      <td>0</td>\n",
              "      <td>0</td>\n",
              "      <td>0</td>\n",
              "      <td>0</td>\n",
              "      <td>1</td>\n",
              "    </tr>\n",
              "    <tr>\n",
              "      <th>7</th>\n",
              "      <td>LP001014</td>\n",
              "      <td>Male</td>\n",
              "      <td>Yes</td>\n",
              "      <td>3+</td>\n",
              "      <td>Graduate</td>\n",
              "      <td>No</td>\n",
              "      <td>3036</td>\n",
              "      <td>2504.0</td>\n",
              "      <td>158.000000</td>\n",
              "      <td>360.0</td>\n",
              "      <td>0.0</td>\n",
              "      <td>Semiurban</td>\n",
              "      <td>N</td>\n",
              "      <td>0</td>\n",
              "      <td>1</td>\n",
              "      <td>0</td>\n",
              "      <td>1</td>\n",
              "      <td>1</td>\n",
              "      <td>0</td>\n",
              "      <td>1</td>\n",
              "      <td>0</td>\n",
              "      <td>0</td>\n",
              "      <td>1</td>\n",
              "      <td>0</td>\n",
              "      <td>0</td>\n",
              "      <td>0</td>\n",
              "      <td>0</td>\n",
              "      <td>1</td>\n",
              "      <td>1</td>\n",
              "      <td>0</td>\n",
              "    </tr>\n",
              "    <tr>\n",
              "      <th>8</th>\n",
              "      <td>LP001018</td>\n",
              "      <td>Male</td>\n",
              "      <td>Yes</td>\n",
              "      <td>2</td>\n",
              "      <td>Graduate</td>\n",
              "      <td>No</td>\n",
              "      <td>4006</td>\n",
              "      <td>1526.0</td>\n",
              "      <td>168.000000</td>\n",
              "      <td>360.0</td>\n",
              "      <td>1.0</td>\n",
              "      <td>Urban</td>\n",
              "      <td>Y</td>\n",
              "      <td>0</td>\n",
              "      <td>1</td>\n",
              "      <td>0</td>\n",
              "      <td>1</td>\n",
              "      <td>1</td>\n",
              "      <td>0</td>\n",
              "      <td>1</td>\n",
              "      <td>0</td>\n",
              "      <td>0</td>\n",
              "      <td>0</td>\n",
              "      <td>1</td>\n",
              "      <td>0</td>\n",
              "      <td>0</td>\n",
              "      <td>1</td>\n",
              "      <td>0</td>\n",
              "      <td>0</td>\n",
              "      <td>1</td>\n",
              "    </tr>\n",
              "    <tr>\n",
              "      <th>9</th>\n",
              "      <td>LP001020</td>\n",
              "      <td>Male</td>\n",
              "      <td>Yes</td>\n",
              "      <td>1</td>\n",
              "      <td>Graduate</td>\n",
              "      <td>No</td>\n",
              "      <td>12841</td>\n",
              "      <td>10968.0</td>\n",
              "      <td>349.000000</td>\n",
              "      <td>360.0</td>\n",
              "      <td>1.0</td>\n",
              "      <td>Semiurban</td>\n",
              "      <td>N</td>\n",
              "      <td>0</td>\n",
              "      <td>1</td>\n",
              "      <td>0</td>\n",
              "      <td>1</td>\n",
              "      <td>1</td>\n",
              "      <td>0</td>\n",
              "      <td>1</td>\n",
              "      <td>0</td>\n",
              "      <td>0</td>\n",
              "      <td>1</td>\n",
              "      <td>0</td>\n",
              "      <td>0</td>\n",
              "      <td>1</td>\n",
              "      <td>0</td>\n",
              "      <td>0</td>\n",
              "      <td>1</td>\n",
              "      <td>0</td>\n",
              "    </tr>\n",
              "  </tbody>\n",
              "</table>\n",
              "</div>"
            ],
            "text/plain": [
              "     loanid gender married  ... Dependents_3+ Approve_N Approve_Y\n",
              "0  LP001002   Male      No  ...             0         0         1\n",
              "1  LP001003   Male     Yes  ...             0         1         0\n",
              "2  LP001005   Male     Yes  ...             0         0         1\n",
              "3  LP001006   Male     Yes  ...             0         0         1\n",
              "4  LP001008   Male      No  ...             0         0         1\n",
              "5  LP001011   Male     Yes  ...             0         0         1\n",
              "6  LP001013   Male     Yes  ...             0         0         1\n",
              "7  LP001014   Male     Yes  ...             1         1         0\n",
              "8  LP001018   Male     Yes  ...             0         0         1\n",
              "9  LP001020   Male     Yes  ...             0         1         0\n",
              "\n",
              "[10 rows x 30 columns]"
            ]
          },
          "metadata": {
            "tags": []
          },
          "execution_count": 104
        }
      ]
    },
    {
      "cell_type": "code",
      "metadata": {
        "id": "Wo2sEWbCZMvG"
      },
      "source": [
        "# Dropping of non-numeric columns as part of pre-processing\n",
        "\n",
        "df_train = df_train.drop(columns = ['loanid', 'gender', 'married', 'dependents', 'education','selfemployed', 'propertyarea','loanstatus','Approve_N'])"
      ],
      "execution_count": null,
      "outputs": []
    },
    {
      "cell_type": "code",
      "metadata": {
        "colab": {
          "base_uri": "https://localhost:8080/",
          "height": 438
        },
        "id": "1XoRr-nOZM45",
        "outputId": "f2b4b3f8-2eff-4bfc-ce54-786554202710"
      },
      "source": [
        "# Previewing the final dataset for our analysis\n",
        "\n",
        "df_train"
      ],
      "execution_count": null,
      "outputs": [
        {
          "output_type": "execute_result",
          "data": {
            "text/html": [
              "<div>\n",
              "<style scoped>\n",
              "    .dataframe tbody tr th:only-of-type {\n",
              "        vertical-align: middle;\n",
              "    }\n",
              "\n",
              "    .dataframe tbody tr th {\n",
              "        vertical-align: top;\n",
              "    }\n",
              "\n",
              "    .dataframe thead th {\n",
              "        text-align: right;\n",
              "    }\n",
              "</style>\n",
              "<table border=\"1\" class=\"dataframe\">\n",
              "  <thead>\n",
              "    <tr style=\"text-align: right;\">\n",
              "      <th></th>\n",
              "      <th>applicantincome</th>\n",
              "      <th>coapplicantincome</th>\n",
              "      <th>loanamount</th>\n",
              "      <th>loanamountterm</th>\n",
              "      <th>credithistory</th>\n",
              "      <th>Gender_Female</th>\n",
              "      <th>Gender_Male</th>\n",
              "      <th>Married_No</th>\n",
              "      <th>Married_Yes</th>\n",
              "      <th>Education_Graduate</th>\n",
              "      <th>Education_Not Graduate</th>\n",
              "      <th>Selfemployed_No</th>\n",
              "      <th>Selfemployed_Yes</th>\n",
              "      <th>Property_Rural</th>\n",
              "      <th>Property_Semiurban</th>\n",
              "      <th>Property_Urban</th>\n",
              "      <th>Dependents_0</th>\n",
              "      <th>Dependents_1</th>\n",
              "      <th>Dependents_2</th>\n",
              "      <th>Dependents_3+</th>\n",
              "      <th>Approve_Y</th>\n",
              "    </tr>\n",
              "  </thead>\n",
              "  <tbody>\n",
              "    <tr>\n",
              "      <th>0</th>\n",
              "      <td>5849</td>\n",
              "      <td>0.0</td>\n",
              "      <td>146.412162</td>\n",
              "      <td>360.0</td>\n",
              "      <td>1.0</td>\n",
              "      <td>0</td>\n",
              "      <td>1</td>\n",
              "      <td>1</td>\n",
              "      <td>0</td>\n",
              "      <td>1</td>\n",
              "      <td>0</td>\n",
              "      <td>1</td>\n",
              "      <td>0</td>\n",
              "      <td>0</td>\n",
              "      <td>0</td>\n",
              "      <td>1</td>\n",
              "      <td>1</td>\n",
              "      <td>0</td>\n",
              "      <td>0</td>\n",
              "      <td>0</td>\n",
              "      <td>1</td>\n",
              "    </tr>\n",
              "    <tr>\n",
              "      <th>1</th>\n",
              "      <td>4583</td>\n",
              "      <td>1508.0</td>\n",
              "      <td>128.000000</td>\n",
              "      <td>360.0</td>\n",
              "      <td>1.0</td>\n",
              "      <td>0</td>\n",
              "      <td>1</td>\n",
              "      <td>0</td>\n",
              "      <td>1</td>\n",
              "      <td>1</td>\n",
              "      <td>0</td>\n",
              "      <td>1</td>\n",
              "      <td>0</td>\n",
              "      <td>1</td>\n",
              "      <td>0</td>\n",
              "      <td>0</td>\n",
              "      <td>0</td>\n",
              "      <td>1</td>\n",
              "      <td>0</td>\n",
              "      <td>0</td>\n",
              "      <td>0</td>\n",
              "    </tr>\n",
              "    <tr>\n",
              "      <th>2</th>\n",
              "      <td>3000</td>\n",
              "      <td>0.0</td>\n",
              "      <td>66.000000</td>\n",
              "      <td>360.0</td>\n",
              "      <td>1.0</td>\n",
              "      <td>0</td>\n",
              "      <td>1</td>\n",
              "      <td>0</td>\n",
              "      <td>1</td>\n",
              "      <td>1</td>\n",
              "      <td>0</td>\n",
              "      <td>0</td>\n",
              "      <td>1</td>\n",
              "      <td>0</td>\n",
              "      <td>0</td>\n",
              "      <td>1</td>\n",
              "      <td>1</td>\n",
              "      <td>0</td>\n",
              "      <td>0</td>\n",
              "      <td>0</td>\n",
              "      <td>1</td>\n",
              "    </tr>\n",
              "    <tr>\n",
              "      <th>3</th>\n",
              "      <td>2583</td>\n",
              "      <td>2358.0</td>\n",
              "      <td>120.000000</td>\n",
              "      <td>360.0</td>\n",
              "      <td>1.0</td>\n",
              "      <td>0</td>\n",
              "      <td>1</td>\n",
              "      <td>0</td>\n",
              "      <td>1</td>\n",
              "      <td>0</td>\n",
              "      <td>1</td>\n",
              "      <td>1</td>\n",
              "      <td>0</td>\n",
              "      <td>0</td>\n",
              "      <td>0</td>\n",
              "      <td>1</td>\n",
              "      <td>1</td>\n",
              "      <td>0</td>\n",
              "      <td>0</td>\n",
              "      <td>0</td>\n",
              "      <td>1</td>\n",
              "    </tr>\n",
              "    <tr>\n",
              "      <th>4</th>\n",
              "      <td>6000</td>\n",
              "      <td>0.0</td>\n",
              "      <td>141.000000</td>\n",
              "      <td>360.0</td>\n",
              "      <td>1.0</td>\n",
              "      <td>0</td>\n",
              "      <td>1</td>\n",
              "      <td>1</td>\n",
              "      <td>0</td>\n",
              "      <td>1</td>\n",
              "      <td>0</td>\n",
              "      <td>1</td>\n",
              "      <td>0</td>\n",
              "      <td>0</td>\n",
              "      <td>0</td>\n",
              "      <td>1</td>\n",
              "      <td>1</td>\n",
              "      <td>0</td>\n",
              "      <td>0</td>\n",
              "      <td>0</td>\n",
              "      <td>1</td>\n",
              "    </tr>\n",
              "    <tr>\n",
              "      <th>...</th>\n",
              "      <td>...</td>\n",
              "      <td>...</td>\n",
              "      <td>...</td>\n",
              "      <td>...</td>\n",
              "      <td>...</td>\n",
              "      <td>...</td>\n",
              "      <td>...</td>\n",
              "      <td>...</td>\n",
              "      <td>...</td>\n",
              "      <td>...</td>\n",
              "      <td>...</td>\n",
              "      <td>...</td>\n",
              "      <td>...</td>\n",
              "      <td>...</td>\n",
              "      <td>...</td>\n",
              "      <td>...</td>\n",
              "      <td>...</td>\n",
              "      <td>...</td>\n",
              "      <td>...</td>\n",
              "      <td>...</td>\n",
              "      <td>...</td>\n",
              "    </tr>\n",
              "    <tr>\n",
              "      <th>609</th>\n",
              "      <td>2900</td>\n",
              "      <td>0.0</td>\n",
              "      <td>71.000000</td>\n",
              "      <td>360.0</td>\n",
              "      <td>1.0</td>\n",
              "      <td>1</td>\n",
              "      <td>0</td>\n",
              "      <td>1</td>\n",
              "      <td>0</td>\n",
              "      <td>1</td>\n",
              "      <td>0</td>\n",
              "      <td>1</td>\n",
              "      <td>0</td>\n",
              "      <td>1</td>\n",
              "      <td>0</td>\n",
              "      <td>0</td>\n",
              "      <td>1</td>\n",
              "      <td>0</td>\n",
              "      <td>0</td>\n",
              "      <td>0</td>\n",
              "      <td>1</td>\n",
              "    </tr>\n",
              "    <tr>\n",
              "      <th>610</th>\n",
              "      <td>4106</td>\n",
              "      <td>0.0</td>\n",
              "      <td>40.000000</td>\n",
              "      <td>180.0</td>\n",
              "      <td>1.0</td>\n",
              "      <td>0</td>\n",
              "      <td>1</td>\n",
              "      <td>0</td>\n",
              "      <td>1</td>\n",
              "      <td>1</td>\n",
              "      <td>0</td>\n",
              "      <td>1</td>\n",
              "      <td>0</td>\n",
              "      <td>1</td>\n",
              "      <td>0</td>\n",
              "      <td>0</td>\n",
              "      <td>0</td>\n",
              "      <td>0</td>\n",
              "      <td>0</td>\n",
              "      <td>1</td>\n",
              "      <td>1</td>\n",
              "    </tr>\n",
              "    <tr>\n",
              "      <th>611</th>\n",
              "      <td>8072</td>\n",
              "      <td>240.0</td>\n",
              "      <td>253.000000</td>\n",
              "      <td>360.0</td>\n",
              "      <td>1.0</td>\n",
              "      <td>0</td>\n",
              "      <td>1</td>\n",
              "      <td>0</td>\n",
              "      <td>1</td>\n",
              "      <td>1</td>\n",
              "      <td>0</td>\n",
              "      <td>1</td>\n",
              "      <td>0</td>\n",
              "      <td>0</td>\n",
              "      <td>0</td>\n",
              "      <td>1</td>\n",
              "      <td>0</td>\n",
              "      <td>1</td>\n",
              "      <td>0</td>\n",
              "      <td>0</td>\n",
              "      <td>1</td>\n",
              "    </tr>\n",
              "    <tr>\n",
              "      <th>612</th>\n",
              "      <td>7583</td>\n",
              "      <td>0.0</td>\n",
              "      <td>187.000000</td>\n",
              "      <td>360.0</td>\n",
              "      <td>1.0</td>\n",
              "      <td>0</td>\n",
              "      <td>1</td>\n",
              "      <td>0</td>\n",
              "      <td>1</td>\n",
              "      <td>1</td>\n",
              "      <td>0</td>\n",
              "      <td>1</td>\n",
              "      <td>0</td>\n",
              "      <td>0</td>\n",
              "      <td>0</td>\n",
              "      <td>1</td>\n",
              "      <td>0</td>\n",
              "      <td>0</td>\n",
              "      <td>1</td>\n",
              "      <td>0</td>\n",
              "      <td>1</td>\n",
              "    </tr>\n",
              "    <tr>\n",
              "      <th>613</th>\n",
              "      <td>4583</td>\n",
              "      <td>0.0</td>\n",
              "      <td>133.000000</td>\n",
              "      <td>360.0</td>\n",
              "      <td>0.0</td>\n",
              "      <td>1</td>\n",
              "      <td>0</td>\n",
              "      <td>1</td>\n",
              "      <td>0</td>\n",
              "      <td>1</td>\n",
              "      <td>0</td>\n",
              "      <td>0</td>\n",
              "      <td>1</td>\n",
              "      <td>0</td>\n",
              "      <td>1</td>\n",
              "      <td>0</td>\n",
              "      <td>1</td>\n",
              "      <td>0</td>\n",
              "      <td>0</td>\n",
              "      <td>0</td>\n",
              "      <td>0</td>\n",
              "    </tr>\n",
              "  </tbody>\n",
              "</table>\n",
              "<p>614 rows × 21 columns</p>\n",
              "</div>"
            ],
            "text/plain": [
              "     applicantincome  coapplicantincome  ...  Dependents_3+  Approve_Y\n",
              "0               5849                0.0  ...              0          1\n",
              "1               4583             1508.0  ...              0          0\n",
              "2               3000                0.0  ...              0          1\n",
              "3               2583             2358.0  ...              0          1\n",
              "4               6000                0.0  ...              0          1\n",
              "..               ...                ...  ...            ...        ...\n",
              "609             2900                0.0  ...              0          1\n",
              "610             4106                0.0  ...              1          1\n",
              "611             8072              240.0  ...              0          1\n",
              "612             7583                0.0  ...              0          1\n",
              "613             4583                0.0  ...              0          0\n",
              "\n",
              "[614 rows x 21 columns]"
            ]
          },
          "metadata": {
            "tags": []
          },
          "execution_count": 106
        }
      ]
    },
    {
      "cell_type": "code",
      "metadata": {
        "id": "GHH2FdcLZM-P"
      },
      "source": [
        "# Preprocessing \n",
        "\n",
        "X=df_train.drop(['Approve_Y'],axis=1)\n",
        "y=df_train['Approve_Y']"
      ],
      "execution_count": null,
      "outputs": []
    },
    {
      "cell_type": "code",
      "metadata": {
        "id": "f9E91VFlZNBQ"
      },
      "source": [
        "# Splitting into training and test\n",
        "\n",
        "from sklearn.model_selection import train_test_split\n",
        "\n",
        "X_train, X_test, y_train, y_test = train_test_split(X, y, test_size=0.2, random_state=0)\n"
      ],
      "execution_count": null,
      "outputs": []
    },
    {
      "cell_type": "code",
      "metadata": {
        "id": "nNW_YT3WZNHL"
      },
      "source": [
        "# Normalization\n",
        "\n",
        "# Dependents had an issue because of the +\n",
        "\n",
        "from sklearn.preprocessing import StandardScaler\n",
        "\n",
        "sc = StandardScaler()\n",
        "X_train = sc.fit_transform(X_train)\n",
        "X_test = sc.transform(X_test)"
      ],
      "execution_count": null,
      "outputs": []
    },
    {
      "cell_type": "code",
      "metadata": {
        "id": "5TuD0D-iZNMn"
      },
      "source": [
        "# Applying PCA\n",
        "\n",
        "from sklearn.decomposition import PCA\n",
        "\n",
        "pca = PCA(n_components=6)\n",
        "X_train = pca.fit_transform(X_train)\n",
        "X_test = pca.transform(X_test)"
      ],
      "execution_count": null,
      "outputs": []
    },
    {
      "cell_type": "code",
      "metadata": {
        "colab": {
          "base_uri": "https://localhost:8080/"
        },
        "id": "RNzyjlztc3bm",
        "outputId": "525cfb79-2f9f-40b4-9836-06c5f523999c"
      },
      "source": [
        "# Obtaining the explained variance ratio which returns the variance caused by each of the principal components. \n",
        "# We execute the following line of code to find the \"explained variance ratio\"\n",
        "\n",
        "explained_variance = pca.explained_variance_ratio_\n",
        "\n",
        "explained_variance"
      ],
      "execution_count": null,
      "outputs": [
        {
          "output_type": "execute_result",
          "data": {
            "text/plain": [
              "array([0.15721044, 0.11464194, 0.10159128, 0.08592248, 0.07838558,\n",
              "       0.07440071])"
            ]
          },
          "metadata": {
            "tags": []
          },
          "execution_count": 111
        }
      ]
    },
    {
      "cell_type": "code",
      "metadata": {
        "colab": {
          "base_uri": "https://localhost:8080/",
          "height": 301
        },
        "id": "rreJ9TwcZNOx",
        "outputId": "ef297487-12b1-4895-b577-1c802123c175"
      },
      "source": [
        "# Plotting our scree plot\n",
        "\n",
        "plt.plot(pca.explained_variance_ratio_)\n",
        "plt.xlabel('Number of components', fontsize = 14)\n",
        "plt.ylabel('Explained variance', fontsize = 14)\n",
        "plt.title('Scree Plot', fontsize = 16)\n",
        "plt.show()"
      ],
      "execution_count": null,
      "outputs": [
        {
          "output_type": "display_data",
          "data": {
            "image/png": "[encoded data removed]",
            "text/plain": [
              "<Figure size 432x288 with 1 Axes>"
            ]
          },
          "metadata": {
            "tags": []
          }
        }
      ]
    },
    {
      "cell_type": "code",
      "metadata": {
        "id": "dd3rUj2aZNTg"
      },
      "source": [
        "# Training and Making Predictions\n",
        "from sklearn.ensemble import RandomForestClassifier\n",
        "\n",
        "classifier = RandomForestClassifier(max_depth=2, random_state=0)\n",
        "classifier.fit(X_train, y_train)\n",
        "\n",
        "# Predicting the Test set results\n",
        "y_pred = classifier.predict(X_test)"
      ],
      "execution_count": null,
      "outputs": []
    },
    {
      "cell_type": "code",
      "metadata": {
        "colab": {
          "base_uri": "https://localhost:8080/"
        },
        "id": "q8k0Tq47ZNZo",
        "outputId": "4623f930-a5e4-4c00-b8d3-e91622a9f93f"
      },
      "source": [
        "# Performance Evaluation\n",
        "# \n",
        "from sklearn.metrics import confusion_matrix\n",
        "from sklearn.metrics import accuracy_score\n",
        "\n",
        "cm = confusion_matrix(y_test, y_pred)\n",
        "print(cm)\n",
        "print('Accuracy' , accuracy_score(y_test, y_pred))"
      ],
      "execution_count": null,
      "outputs": [
        {
          "output_type": "stream",
          "text": [
            "[[ 0 33]\n",
            " [ 0 90]]\n",
            "Accuracy 0.7317073170731707\n"
          ],
          "name": "stdout"
        }
      ]
    },
    {
      "cell_type": "markdown",
      "metadata": {
        "id": "CsIUlQ617pCr"
      },
      "source": [
        "## 9. Challenging the solution\n",
        "\n",
        "If we had more knowledge on machine learning, we would have built a classification model to accompany the hypothesis tests and hence strengthen our analysis."
      ]
    },
    {
      "cell_type": "markdown",
      "metadata": {
        "id": "o1OiwFnFTpsy"
      },
      "source": [
        "## 10. Follow-up questions\n",
        "\n",
        "At this point, we can refine our question or collect new data, all in an iterative process to get at the truth.\n"
      ]
    },
    {
      "cell_type": "markdown",
      "metadata": {
        "id": "zfrvoyhIU2p2"
      },
      "source": [
        "### a) Did we have the right data?\n",
        "> Yes. The data was relevant in context to our research.\n",
        "\n",
        "### b) Do we need other data to answer the question?\n",
        "> Our data was quite right but if there was a way we could collect more data on the same it would be better.\n",
        "\n",
        "### c) Did we have the right question?\n",
        "> Yes"
      ]
    },
    {
      "cell_type": "markdown",
      "metadata": {
        "id": "rsectkEfWGO9"
      },
      "source": [
        "## 11. Conclusions and Recommendations\n",
        "> From our exploratory data analysis and statistical analysis techniques we have made some observations therefore we can draw some conclusions.\n",
        "\n",
        "> - In consideration of this dataset containing a substantial amount of outliers standing at 42%, it deemed best not to drop them because in the case of loans, some questions are sensitive eg gender.\n",
        "- The number of loans approved was 69% and disapproved loans were 31%\n",
        "- It appears that males apply for more loans than women because males are 82% and females are 18%. Same case applies to graduates. This is because they have high numbers in loan applications. It would make one wonder if graduates are not being paid well or they need the loans to facilitate other things like investments\n",
        "- There was no significant difference between number of approved loans considering that a person is self employed or not. This implies that loan approval is more dependent on applicant income.\n",
        "- About 78% of loans were approved for applicants with good credit history.\n",
        "- There was a high number of approved loans for applicant coming from semi-urban areas. This would suggest that they could have higher income.\n",
        "- The number of dependents affects an applicants loan approval rate. It was interesting to find that people with 2 dependents had more loan approvals.\n",
        "- We also find out that credit history have a significantly high relationship with loan approval.\n",
        "- There is a relationship between area and loan status\n",
        "- Undoubtedly, despite more males applying for loans, gender does not affect whether a loan is approved or not.\n",
        "- It is discovered that those earning between 0 and 20,000 go for smaller loans amounts. If the bank capitalizes on offering good rates, they can make good profits since smaller loans have shorter repayment periods.\n",
        "\n",
        "We recommend that the lender should prioritize people with good credit history and high income earners. \n",
        "The lenders should have better data collection methods to capture more data in order for the models to make more accurate predictions."
      ]
    }
  ]
}